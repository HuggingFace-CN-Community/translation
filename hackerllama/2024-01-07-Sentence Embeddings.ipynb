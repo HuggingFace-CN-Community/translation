{
  "cells": [
    {
      "cell_type": "raw",
      "metadata": {
        "id": "CYiiLlLuGRSd"
      },
      "source": [
        "---\n",
        "date: \"01/07/2024\"\n",
        "twitter-card: true\n",
        "title: 句子嵌入\n",
        "description: 这里有你想知道的关于句子嵌入的一切（未来会加入更多相关的内容）\n",
        "image: embedding.png\n",
        "toc-depth: 5\n",
        "format:\n",
        "  html:\n",
        "    comments:\n",
        "      utterances:\n",
        "         repo: osanseviero/hackerllama\n",
        "---"
      ]
    },
    {
      "cell_type": "markdown",
      "metadata": {
        "id": "xG-PipBiGRSd"
      },
      "source": [
        "<a href=\"https://colab.research.google.com/github/osanseviero/hackerllama/blob/main/nbs/blog/posts/sentence_embeddings/index.ipynb\" rel=\"nofollow\"><img src=\"https://colab.research.google.com/assets/colab-badge.svg\" alt=\"Open in Colab\"></a>"
      ]
    },
    {
      "cell_type": "markdown",
      "metadata": {
        "id": "aJqGmYSQGRSe"
      },
      "source": [
        "这个系列旨在揭示嵌入（embeddings）的奥秘，并向您展示如何在项目中使用它们。本系列的第一篇博客将教您如何使用和扩展开源嵌入模型。我们将探讨选择现有模型的标准、当前的评估方法以及生态系统的现状。我们还将深入研究三个令人兴奋的技术实践案例：\n",
        "\n",
        "\n",
        "* 寻找最相似的Quora或StackOverflow问题（注：Quora为美国一个著名的问答网站，Stack Overflow是一个美国的程序员问答网站）\n",
        "* 在给定的大型数据集中，找到最相似的项\n",
        "* 在用户浏览器中直接运行搜索嵌入模型（无需服务器）\n",
        "\n",
        "您可以在这里阅读内容，或通过点击页面顶部的 Google Colab 徽章在 Google Colab 中执行它。让我们深入了解嵌入！"
      ]
    },
    {
      "cell_type": "markdown",
      "metadata": {
        "id": "VZW89x_3GRSf"
      },
      "source": [
        "## 摘要\n",
        "\n",
        "也许你一直在阅读关于“嵌入这个”和“嵌入那个”的内容，但你可能仍然不完全了解嵌入究竟是什么。你并不孤单！即使你对嵌入只有一个模糊的概念，你仍可通过一个黑匣子 API（注：因为训练的模型，我们并不知道模型工作时内部信息传递方式是如何的，因此称作黑盒）去使用模型，而你并不知道模型内部发生了什么。这是一个问题，因为当前开源的嵌入模型的性能非常强大-它们容易不但容易部署，而且体积小（因此托管成本较低），并且胜过许多闭源模型。\n",
        "\n",
        "嵌入将信息表现为一组数字（名为向量）（可以将其视为列表！）。例如，我们可以获得单词、句子、文档、图像、音频文件等的值。给定句子“今天是个晴天”，我们可以获得其向量值，它将是一个特定大小的向量，例如384个数字（这样的向量可能看起来像 [0.32, 0.42, 0.15, …, 0.72]）。有趣的是，嵌入捕捉到了信息的语义含义。例如，句子“今天是个晴天”和句子“今天天气不错”非常相似。即使单词不同，含义相似，嵌入的向量值也会反映出这一点。\n",
        "\n",
        ":::callout\n",
        "\n",
        "如果你不确定诸如“向量”、“语义相似性”、“向量大小”或“预训练”等术语的含义，不用担心！我们将在接下来的部分对它们进行逐一解释。我们首先要先专注于浅层次的理解。\n",
        "\n",
        ":::\n",
        "\n",
        "因此，这个向量捕捉到了信息的语义含义，使得它们更容易相互比较。例如，我们可以使用向量来在Quora或StackOverflow中找到相似的问题，搜索代码，找到相似的图像等。让我们深入了解一些代码！"
      ]
    },
    {
      "cell_type": "markdown",
      "metadata": {
        "id": "1diSV7DtGRSf"
      },
      "source": [
        "我们将使用Sentence Transformers，这是一个开源的第三方python库，它使得预训练嵌入模型的使用变得非常简单。具体来说，Sentence Transformers允许我们快速将句子由自然语言转换为向量。让我们运行一个例子，然后讨论它在幕后是如何工作的。\n",
        "\n",
        "让我们开始安装这个库："
      ]
    },
    {
      "cell_type": "code",
      "execution_count": null,
      "metadata": {
        "id": "XA-t5v9HGRSg",
        "vscode": {
          "languageId": "python"
        }
      },
      "outputs": [],
      "source": [
        "%%capture\n",
        "!pip install sentence_transformers"
      ]
    },
    {
      "cell_type": "markdown",
      "metadata": {
        "id": "px-H9e9bGRSg"
      },
      "source": [
        "第二步是加载一个已存在的模型。我们将开始使用 [all-MiniLM-L6-v2](https://huggingface.co/sentence-transformers/all-MiniLM-L6-v2)。虽然它不是最好的开源向量模型，但它相当受用户欢迎且参数量非常小（2300万参数），这意味着我们可以非常快速地开始使用它。"
      ]
    },
    {
      "cell_type": "code",
      "execution_count": null,
      "metadata": {
        "id": "D-ffoVWCGRSh",
        "vscode": {
          "languageId": "python"
        }
      },
      "outputs": [],
      "source": [
        "from sentence_transformers import SentenceTransformer\n",
        "\n",
        "model = SentenceTransformer(\"sentence-transformers/all-MiniLM-L6-v2\")"
      ]
    },
    {
      "cell_type": "markdown",
      "metadata": {
        "id": "tyznQwIuGRSh"
      },
      "source": [
        "既然我们已经加载了一个模型，让我们使用它来对一些句子进行编码。我们可以使用`encode`方法来获得一个句子列表的向量值。让我们试一试吧！"
      ]
    },
    {
      "cell_type": "code",
      "execution_count": null,
      "metadata": {
        "id": "Yd7t_PsMGRSh",
        "outputId": "e0c125cf-a9c6-4ce4-ef85-194deb4daeaa",
        "vscode": {
          "languageId": "python"
        }
      },
      "outputs": [
        {
          "data": {
            "text/plain": [
              "(3, 384)"
            ]
          },
          "execution_count": null,
          "metadata": {},
          "output_type": "execute_result"
        }
      ],
      "source": [
        "from sentence_transformers import util\n",
        "\n",
        "sentences = [\"The weather today is beautiful\", \"It's raining!\", \"Dogs are awesome\"]\n",
        "embeddings = model.encode(sentences)\n",
        "embeddings.shape"
      ]
    },
    {
      "cell_type": "markdown",
      "metadata": {
        "id": "wBUyBPrnGRSi"
      },
      "source": [
        "all-MiniLM-L6-v2创建了包含384个向量值的嵌入。我们获得了三个向量，每个向量对应一句话。将`embeddings`视为嵌入的“数据库”。给定一个新的句子，我们如何找到最相似的句子呢？我们可以使用`util.pytorch_cos_sim`方法计算新句子的向量值与数据库中所有向量值之间的余弦相似度（我们很快会详细讨论它）。余弦相似度是一个介于0和1之间的数字，表示两个向量有多相似。值为1意味着向量是相同的，而值为0意味着向量是完全不同的。让我们试一试吧！"
      ]
    },
    {
      "cell_type": "code",
      "execution_count": null,
      "metadata": {
        "id": "SMvMOZGCGRSi",
        "outputId": "0df23613-8b90-4491-aad7-968654c9c309",
        "vscode": {
          "languageId": "python"
        }
      },
      "outputs": [
        {
          "name": "stdout",
          "output_type": "stream",
          "text": [
            "tensor([[0.7344]]) The weather today is beautiful\n",
            "tensor([[0.4180]]) It's raining!\n",
            "tensor([[0.1060]]) Dogs are awesome\n"
          ]
        }
      ],
      "source": [
        "first_embedding = model.encode(\"Today is a sunny day\")\n",
        "for embedding, sentence in zip(embeddings, sentences):\n",
        "    similarity = util.pytorch_cos_sim(first_embedding, embedding)\n",
        "    print(similarity, sentence)"
      ]
    },
    {
      "cell_type": "markdown",
      "metadata": {
        "id": "MvYytBKTGRSi"
      },
      "source": [
        "我们对此可以得出什么解释呢？尽管“today is a sunny day”和“the weather today is beautiful”没有相同的词，但嵌入可以捕捉到一些语义含义，因此余弦相似度相对较高。另一方面，“Dogs are awesome”，虽然正确，但与天气或今天无关；因此，余弦相似度非常低。\n",
        "\n",
        "为了深入探讨相似嵌入的这个概念，让我们看看它们如何在产品中使用。想象一下，美国社会保障局希望允许用户在输入框中提出与医疗保险相关的问题。这个话题非常敏感，我们可能不希望模型产生与此无关的幻觉！相反，我们可以利用一个问题数据库（在这种情况下，存在一个现有的医疗保险常见问题解答）。这个过程与上面类似：\n",
        "\n",
        "1. 我们有一个问题和答案的语料库（集合）。\n",
        "2. 我们计算所有问题的向量值。\n",
        "3. 给定一个新问题，我们计算它的向量值。\n",
        "4. 计算新问题向量与数据库中所有向量之间的余弦相似度。\n",
        "5. 我们返回与最相似嵌入相关联的最相似的问题。\n",
        "\n",
        "步骤1和2可以在离线状态下完成（即，我们仅计算一次嵌入并存储它们）。其余步骤可以在搜索时进行（每当用户提出一个问题时）。让我们看看这在代码中是什么样子的。"
      ]
    },
    {
      "cell_type": "markdown",
      "metadata": {
        "id": "kDrzgLvwGRSi"
      },
      "source": [
        "[![Representation of embeddings in two dimensions](https://github.com/osanseviero/hackerllama/blob/main/nbs/blog/posts/sentence_embeddings/embedding.png?raw=1)](https://huggingface.co/spaces/sentence-transformers/embeddings-semantic-search)"
      ]
    },
    {
      "cell_type": "markdown",
      "metadata": {
        "id": "VlqP-_k3GRSi"
      },
      "source": [
        "让我们先创建我们的常见问题的映射"
      ]
    },
    {
      "cell_type": "code",
      "execution_count": null,
      "metadata": {
        "id": "ESJ9EFBQGRSj",
        "vscode": {
          "languageId": "python"
        }
      },
      "outputs": [],
      "source": [
        "# Data from https://faq.ssa.gov/en-US/topic/?id=CAT-01092\n",
        "\n",
        "faq = {\n",
        "    \"How do I get a replacement Medicare card?\": \"If your Medicare card was lost, stolen, or destroyed, you can request a replacement online at Medicare.gov.\",\n",
        "    \"How do I sign up for Medicare?\": \"If you already get Social Security benefits, you do not need to sign up for Medicare. We will automatically enroll you in Original Medicare (Part A and Part B) when you become eligible. We will mail you the information a few months before you become eligible.\",\n",
        "    \"What are Medicare late enrollment penalties?\": \"In most cases, if you don’t sign up for Medicare when you’re first eligible, you may have to pay a higher monthly premium. Find more information at https://faq.ssa.gov/en-us/Topic/article/KA-02995\",\n",
        "    \"Will my Medicare premiums be higher because of my higher income?\": \"Some people with higher income may pay a larger percentage of their monthly Medicare Part B and prescription drug costs based on their income. We call the additional amount the income-related monthly adjustment amount.\",\n",
        "    \"What is Medicare and who can get it?\": \"Medicare is a health insurance program for people age 65 or older. Some younger people are eligible for Medicare including people with disabilities, permanent kidney failure and amyotrophic lateral sclerosis (Lou Gehrig’s disease or ALS). Medicare helps with the cost of health care, but it does not cover all medical expenses or the cost of most long-term care.\",\n",
        "}"
      ]
    },
    {
      "cell_type": "markdown",
      "metadata": {
        "id": "Z9gyb2PXGRSj"
      },
      "source": [
        "然后，我们使用`encode`方法来获取所有问题的嵌入。"
      ]
    },
    {
      "cell_type": "code",
      "execution_count": null,
      "metadata": {
        "id": "j6ygAkknGRSj",
        "outputId": "cdf5cf25-f157-4834-9267-514e00de00b2",
        "vscode": {
          "languageId": "python"
        }
      },
      "outputs": [
        {
          "name": "stdout",
          "output_type": "stream",
          "text": [
            "(5, 384)\n"
          ]
        }
      ],
      "source": [
        "corpus_embeddings = model.encode(list(faq.keys()))\n",
        "print(corpus_embeddings.shape)"
      ]
    },
    {
      "cell_type": "markdown",
      "metadata": {
        "id": "u7Rx4SgRGRSj"
      },
      "source": [
        "一旦用户提出一个问题，我们就会获取它的嵌入。通常我们将这个嵌入称为查询嵌入。"
      ]
    },
    {
      "cell_type": "code",
      "execution_count": null,
      "metadata": {
        "id": "deqffHqFGRSj",
        "outputId": "77a51589-470a-4acf-dffe-ab1064800ff3",
        "vscode": {
          "languageId": "python"
        }
      },
      "outputs": [
        {
          "data": {
            "text/plain": [
              "(384,)"
            ]
          },
          "execution_count": null,
          "metadata": {},
          "output_type": "execute_result"
        }
      ],
      "source": [
        "user_question = \"Do I need to pay more after a raise?\"\n",
        "query_embedding = model.encode(user_question)\n",
        "query_embedding.shape"
      ]
    },
    {
      "cell_type": "markdown",
      "metadata": {
        "id": "weT5FBvkGRSj"
      },
      "source": [
        "现在我们可以计算语料库嵌入和查询嵌入之间的相似度。我们可以使用循环并像之前一样使用`util.pytorch.cos_sim`，但是Sentence Transformers提供了一个更友好的方法叫做`semantic_search`，它为我们完成了所有的工作。它返回前k个最相似的嵌入及它们的相似度分数。让我们试试吧！"
      ]
    },
    {
      "cell_type": "code",
      "execution_count": null,
      "metadata": {
        "id": "aZkAD9SoGRSj",
        "outputId": "2b25d1c5-ea1e-4283-d53a-7e4b4043e712",
        "vscode": {
          "languageId": "python"
        }
      },
      "outputs": [
        {
          "data": {
            "text/plain": [
              "[[{'corpus_id': 3, 'score': 0.35796287655830383},\n",
              "  {'corpus_id': 2, 'score': 0.2787758708000183},\n",
              "  {'corpus_id': 1, 'score': 0.15840476751327515}]]"
            ]
          },
          "execution_count": null,
          "metadata": {},
          "output_type": "execute_result"
        }
      ],
      "source": [
        "similarities = util.semantic_search(query_embedding, corpus_embeddings, top_k=3)\n",
        "similarities"
      ]
    },
    {
      "cell_type": "markdown",
      "metadata": {
        "id": "2spfgiAMGRSj"
      },
      "source": [
        "现在让我们看看这对应哪些问题和答案："
      ]
    },
    {
      "cell_type": "code",
      "execution_count": null,
      "metadata": {
        "id": "_iCeaay5GRSj",
        "outputId": "edce88d7-4f2f-4f37-963a-386243bfbc0b",
        "vscode": {
          "languageId": "python"
        }
      },
      "outputs": [
        {
          "name": "stdout",
          "output_type": "stream",
          "text": [
            "Top 1 question (p=0.35796287655830383): Will my Medicare premiums be higher because of my higher income?\n",
            "Answer: Some people with higher income may pay a larger percentage of their monthly Medicare Part B and prescription drug costs based on their income. We call the additional amount the income-related monthly adjustment amount.\n",
            "Top 2 question (p=0.2787758708000183): What are Medicare late enrollment penalties?\n",
            "Answer: In most cases, if you don’t sign up for Medicare when you’re first eligible, you may have to pay a higher monthly premium. Find more information at https://faq.ssa.gov/en-us/Topic/article/KA-02995\n",
            "Top 3 question (p=0.15840476751327515): How do I sign up for Medicare?\n",
            "Answer: If you already get Social Security benefits, you do not need to sign up for Medicare. We will automatically enroll you in Original Medicare (Part A and Part B) when you become eligible. We will mail you the information a few months before you become eligible.\n"
          ]
        }
      ],
      "source": [
        "for i, result in enumerate(similarities[0]):\n",
        "    corpus_id = result[\"corpus_id\"]\n",
        "    score = result[\"score\"]\n",
        "    print(f\"Top {i+1} question (p={score}): {list(faq.keys())[corpus_id]}\")\n",
        "    print(f\"Answer: {list(faq.values())[corpus_id]}\")"
      ]
    },
    {
      "cell_type": "markdown",
      "metadata": {
        "id": "9jXgCcuYGRSk"
      },
      "source": [
        "太好了，所以针对问题\"Do I need to pay more after a raise?\"，我们知道最相似的问题是\"Will my Medicare premiums be higher because of my higher income?\"，因此我们可以返回提供的答案。在实践中，你可能会有数千到数百万个嵌入，但这是一个简单而又强大的例子，展示了如何使用嵌入来找到相似的问题。"
      ]
    },
    {
      "cell_type": "markdown",
      "metadata": {
        "id": "Z0f6hveUGRSk"
      },
      "source": [
        "既然我们更好地理解了嵌入是什么以及它们如何被使用，让我们深入研究一下它们吧！"
      ]
    },
    {
      "cell_type": "markdown",
      "metadata": {
        "id": "bRh1ZUYRGRSk"
      },
      "source": [
        "## 从单词嵌入到句子嵌入\n",
        "\n",
        "### Word2Vec和GloVe\n",
        "\n",
        "现在是时候退后一步，了解更多关于嵌入以及它们为何被需要的知识了。像BERT这样的神经网络不能直接处理单词；它们需要数字。而提供单词的方法是将它们表示为向量，也称为单词嵌入。\n",
        "\n",
        "在传统的设置中，您定义了一个词汇表（指定了允许的单词），然后该词汇表中的每个单词都有一个分配的嵌入。不在词汇表中的单词被映射到一个特殊的标记，通常称为<UNK>（表示训练期间未找到的标准占位符单词）。例如，假设我们有一个包含三个单词的词汇表，并且我们为每个单词分配了一个大小为五的向量。我们可能有以下嵌入：\n",
        "\n",
        "| Word | Embedding |\n",
        "| ---- | --------- |\n",
        "| king    | [0.15, 0.2, 0.2, 0.3, 0.5] |\n",
        "| queen   | [0.12, 0.1, 0.19, 0.3, 0.47] |\n",
        "| potato    | [0.13, 0.4, 0.1, 0.15, 0.01] |\n",
        "| `<UNK>`    | [0.01, 0.02, 0.01, 0.4, 0.11] |\n",
        "\n",
        "我上面写的嵌入是我随机写的数字。实际上，**这些嵌入是通过学习得到的**。这是诸如[Word2Vec](https://en.wikipedia.org/wiki/Word2vec)和[GloVe](https://nlp.stanford.edu/pubs/glove.pdf)等方法的主要思想。它们以这样一种方式学习语料库中单词的嵌入，即出现在相似上下文中的单词具有相似的嵌入。例如，\"king\"和\"queen\"的嵌入是相似的，因为它们出现在相似的上下文中。\n",
        "\n",
        "[![Word embeddings](https://github.com/osanseviero/hackerllama/blob/main/nbs/blog/posts/sentence_embeddings/embedding.png?raw=1)](https://huggingface.co/spaces/sentence-transformers/embeddings-semantic-search)\n",
        "\n",
        "一些开源库，如Gensim和fastText，允许您快速获取预训练的Word2Vec和GloVe嵌入。在NLP的“黄金时代”（2013年），人们使用这些模型来计算单词嵌入，这对于其他模型的输入非常有帮助。例如，您可以计算句子中每个单词的单词嵌入，然后将其作为输入传递给scikit-learn分类器，以对句子的情感进行分类。\n",
        "\n",
        "GloVe和Word2Vec具有固定的表示形式。一旦它们被训练，每个单词都被分配一个固定的向量表示，不考虑它们的上下文（因此，“river bank”中的“bank”和“savings bank”中的“bank”将具有相同的嵌入）。**Word2Vec和GloVe在处理具有多个含义的单词时会遇到困难。**\n",
        "\n",
        "![The good ol' days of NLP](https://github.com/osanseviero/hackerllama/blob/main/nbs/blog/posts/sentence_embeddings/word2vec_meme.jpeg?raw=1)\n",
        "\n",
        "\n",
        ":::注意\n",
        "\n",
        "了解word2vec和GloVe的细节对于理解博客文章的其余部分和句子嵌入是不必要的，所以我会跳过它们。如果你感兴趣的话，我建议阅读这门出色的交互式NLP课程中的这一章节。\n",
        "\n",
        "长话短说\n",
        "\n",
        "* Word2Vec 是通过传递一个非常大的语料库并训练一个浅层神经网络来预测周围的单词来进行训练的。后来的替代方法则是根据周围的单词来预测中心单词。\n",
        "* GloVe 是通过查看单词的共现矩阵（单词在一定距离内一起出现的频率）进行训练的，然后使用该矩阵来获取嵌入。\n",
        "\n",
        "Word2Vec 和 GloVe 的训练目标确保出现在相似上下文中的单词具有相似的嵌入。\n",
        "\n",
        ":::"
      ]
    },
    {
      "cell_type": "markdown",
      "metadata": {
        "id": "2jQ3XqV2GRSk"
      },
      "source": [
        "### 使用Transformers的词嵌入\n",
        "\n",
        "最近，随着Transformer的出现，我们有了新的计算嵌入的方式。嵌入也是通过学习获得的，但与训练一个嵌入模型，然后再为特定任务训练另一个模型不同，Transformer在其任务的上下文中学习有用的嵌入。例如，BERT，一个流行的Transformer模型，在掩码语言建模（预测哪个单词填在空白处）和下一个句子预测（句子B是否跟在句子A后面）的上下文中学习单词嵌入。\n",
        "\n",
        "Transformer在许多NLP任务中是最先进的，并且能够捕捉word2vec和GloVe无法捕捉到的上下文信息，这要归功于一种称为注意力的机制。注意力允许模型权衡其他单词的重要性并捕捉上下文信息。例如，在句子“I went to the bank to deposit money”中，单词“bank”是含糊的。它是河岸还是储蓄银行？模型可以使用单词“deposit”来理解它是一个储蓄银行。这些是**上下文化的嵌入** - 它们的单词嵌入可以根据周围的单词而不同。"
      ]
    },
    {
      "cell_type": "markdown",
      "metadata": {
        "id": "JGEhklUzGRSk"
      },
      "source": [
        "好的...我们谈了很多关于词嵌入的内容；是时候运行一些代码了。让我们使用一个预训练的Transformer模型，[bert-base-uncased](https://huggingface.co/bert-base-uncased)，并获取一些单词嵌入。我们将使用`transformers`库来实现这一点。让我们首先加载模型及其分词器。"
      ]
    },
    {
      "cell_type": "code",
      "execution_count": null,
      "metadata": {
        "id": "E8K4o7JvGRSk",
        "vscode": {
          "languageId": "python"
        }
      },
      "outputs": [],
      "source": [
        "from transformers import AutoModel, AutoTokenizer\n",
        "\n",
        "tokenizer = AutoTokenizer.from_pretrained(\"bert-base-uncased\")\n",
        "model = AutoModel.from_pretrained(\"bert-base-uncased\")"
      ]
    },
    {
      "cell_type": "markdown",
      "metadata": {
        "id": "AIAZp60aGRSk"
      },
      "source": [
        "到目前为止，我们还没有讨论过分词(tokenization)。直到现在，我们假设我们将数据分割成单词。当使用transformers时，我们将文本分割为标记(tokens)。例如，单词“banking”可以被分成两个标记，“bank”和“ing”。分词器负责将数据分割成标记，它分割数据的方式是模型特定的，并且是一个确定性学习过程，这意味着相同的单词将始终被分割成相同的标记。让我们看看代码中是什么样子的："
      ]
    },
    {
      "cell_type": "code",
      "execution_count": null,
      "metadata": {
        "id": "gRjG9Q4SGRSk",
        "outputId": "081d7dc3-6f29-42da-b969-5ba3f043751e",
        "vscode": {
          "languageId": "python"
        }
      },
      "outputs": [
        {
          "data": {
            "text/plain": [
              "['[CLS]', 'the', 'king', 'and', 'the', 'queen', 'are', 'happy', '.', '[SEP]']"
            ]
          },
          "execution_count": null,
          "metadata": {},
          "output_type": "execute_result"
        }
      ],
      "source": [
        "text = \"The king and the queen are happy.\"\n",
        "tokenizer.tokenize(text, add_special_tokens=True)"
      ]
    },
    {
      "cell_type": "markdown",
      "metadata": {
        "id": "cPWHXW3UGRSl"
      },
      "source": [
        "好的，在这个例子中，每个单词都是一个标记！（但这并不总是如此，我们很快就会看到）。但我们还看到了两件可能意外的事情：`[CLS]` 和 `[SEP]`。这些是添加到句子开头和结尾的特殊标记。这些是因为BERT是以这种格式进行训练的。BERT的训练目标之一是下一个句子预测，这意味着它被训练来预测两个句子是否是连续的。`[CLS]` 标记表示整个句子，而 `[SEP]` 标记分隔句子。当我们谈论句子嵌入时，这将会很有趣。"
      ]
    },
    {
      "cell_type": "markdown",
      "metadata": {
        "id": "Pn9oHTa4GRSl"
      },
      "source": [
        " 现在让我们获取每个标记的嵌入。"
      ]
    },
    {
      "cell_type": "code",
      "execution_count": null,
      "metadata": {
        "id": "Yf_PrFh5GRSm",
        "outputId": "6940616a-7b2a-42b2-feb3-d6879deba438",
        "vscode": {
          "languageId": "python"
        }
      },
      "outputs": [
        {
          "data": {
            "text/plain": [
              "torch.Size([1, 10, 768])"
            ]
          },
          "execution_count": null,
          "metadata": {},
          "output_type": "execute_result"
        }
      ],
      "source": [
        "encoded_input = tokenizer(text, return_tensors=\"pt\")\n",
        "output = model(**encoded_input)\n",
        "output[\"last_hidden_state\"].shape"
      ]
    },
    {
      "cell_type": "markdown",
      "metadata": {
        "id": "ezTKr0K3GRSm"
      },
      "source": [
        "太好了！BERT为我们提供了每个标记的768个值的嵌入。这些标记都包含语义信息 - **它们捕捉了单词在句子上下文中的含义**。让我们看看在这个上下文中对应于单词\"king\"的嵌入是否与\"queen\"的嵌入相似。"
      ]
    },
    {
      "cell_type": "code",
      "execution_count": null,
      "metadata": {
        "id": "sjfTHYwUGRSm",
        "outputId": "766f1741-1cdf-4e83-9967-20b5d595f8bc",
        "vscode": {
          "languageId": "python"
        }
      },
      "outputs": [
        {
          "name": "stdout",
          "output_type": "stream",
          "text": [
            "Shape of embedding torch.Size([768])\n",
            "Similarity between king and queen embedding 0.7920711040496826\n"
          ]
        }
      ],
      "source": [
        "king_embedding = output[\"last_hidden_state\"][0][2]  # 2 is the position of king\n",
        "queen_embedding = output[\"last_hidden_state\"][0][5]  # 5 is the position of queen\n",
        "print(f\"Shape of embedding {king_embedding.shape}\")\n",
        "print(\n",
        "    f\"Similarity between king and queen embedding {util.pytorch_cos_sim(king_embedding, queen_embedding)[0][0]}\"\n",
        ")"
      ]
    },
    {
      "cell_type": "markdown",
      "metadata": {
        "id": "noR5bXQ8GRSm"
      },
      "source": [
        "好的，在这个上下文中它们看起来是相当相似的！现在让我们看一下单词\"happy\"。"
      ]
    },
    {
      "cell_type": "code",
      "execution_count": null,
      "metadata": {
        "id": "UovJ8jhpGRSm",
        "outputId": "d1985f35-b4e4-49c2-b293-b624ea9a31c6",
        "vscode": {
          "languageId": "python"
        }
      },
      "outputs": [
        {
          "data": {
            "text/plain": [
              "tensor([[0.5239]], grad_fn=<MmBackward0>)"
            ]
          },
          "execution_count": null,
          "metadata": {},
          "output_type": "execute_result"
        }
      ],
      "source": [
        "happy_embedding = output.last_hidden_state[0][7]  # happy\n",
        "util.pytorch_cos_sim(king_embedding, happy_embedding)"
      ]
    },
    {
      "cell_type": "markdown",
      "metadata": {
        "id": "pC1l-aNAGRSq"
      },
      "source": [
        "这是合理的；皇后的嵌入与国王的更相似，而不是快乐的嵌入。\n",
        "\n",
        "现在让我们看看同一个单词在不同的上下文中可能具有不同的值："
      ]
    },
    {
      "cell_type": "code",
      "execution_count": null,
      "metadata": {
        "id": "eFEX_8FHGRSq",
        "outputId": "7319cab9-666c-43f0-8de0-c77eee5334c0",
        "vscode": {
          "languageId": "python"
        }
      },
      "outputs": [
        {
          "data": {
            "text/plain": [
              "torch.Size([1, 7, 768])"
            ]
          },
          "execution_count": null,
          "metadata": {},
          "output_type": "execute_result"
        }
      ],
      "source": [
        "text = \"The angry and unhappy king\"\n",
        "encoded_input = tokenizer(text, return_tensors=\"pt\")\n",
        "output = model(**encoded_input)\n",
        "output[\"last_hidden_state\"].shape"
      ]
    },
    {
      "cell_type": "code",
      "execution_count": null,
      "metadata": {
        "id": "OCnUCH-jGRSq",
        "outputId": "6266715d-7e61-48b6-999e-4d6bc2e981d5",
        "vscode": {
          "languageId": "python"
        }
      },
      "outputs": [
        {
          "data": {
            "text/plain": [
              "['[CLS]', 'the', 'angry', 'and', 'unhappy', 'king', '[SEP]']"
            ]
          },
          "execution_count": null,
          "metadata": {},
          "output_type": "execute_result"
        }
      ],
      "source": [
        "tokenizer.tokenize(text, add_special_tokens=True)"
      ]
    },
    {
      "cell_type": "code",
      "execution_count": null,
      "metadata": {
        "id": "VxjAJgF-GRSq",
        "outputId": "67f541f1-1703-4346-d64b-d431a552028c",
        "vscode": {
          "languageId": "python"
        }
      },
      "outputs": [
        {
          "data": {
            "text/plain": [
              "tensor([[0.5740]], grad_fn=<MmBackward0>)"
            ]
          },
          "execution_count": null,
          "metadata": {},
          "output_type": "execute_result"
        }
      ],
      "source": [
        "king_embedding_2 = output[\"last_hidden_state\"][0][5]\n",
        "util.pytorch_cos_sim(king_embedding, king_embedding_2)"
      ]
    },
    {
      "cell_type": "markdown",
      "metadata": {
        "id": "o6qkGjmVGRSq"
      },
      "source": [
        "哇！尽管两个嵌入似乎对应于\"king\"的嵌入，但它们在向量空间中相差很大。发生了什么？请记住，这些是上下文化嵌入。第一个句子的上下文非常积极，而第二个句子的上下文则相当消极。因此，这些嵌入是不同的。"
      ]
    },
    {
      "cell_type": "markdown",
      "metadata": {
        "id": "BtOniTxtGRSq"
      },
      "source": [
        "之前，我们讨论了分词器如何将一个单词分成多个标记的情况。一个合理的问题是在这种情况下我们如何获得单词嵌入。让我们来看一个例子，使用长单词“tokenization”。"
      ]
    },
    {
      "cell_type": "code",
      "execution_count": null,
      "metadata": {
        "id": "-YesiW-fGRSq",
        "outputId": "3a1e9dc1-54ce-4529-9a42-d2218ed75fe2",
        "vscode": {
          "languageId": "python"
        }
      },
      "outputs": [
        {
          "data": {
            "text/plain": [
              "['token', '##ization']"
            ]
          },
          "execution_count": null,
          "metadata": {},
          "output_type": "execute_result"
        }
      ],
      "source": [
        "tokenizer.tokenize(\"tokenization\")"
      ]
    },
    {
      "cell_type": "markdown",
      "metadata": {
        "id": "XQKR2TM3GRSq"
      },
      "source": [
        "单词\"tokenization\"被分成了两个标记，但我们关心的是\"tokenization\"的嵌入！我们可以采取一种汇聚策略，其中我们获取每个标记的嵌入，然后对它们进行平均以获得单词嵌入。让我们试试看！\n",
        "\n",
        "和之前一样，我们首先对文本进行分词，然后将标记ID传递给模型。"
      ]
    },
    {
      "cell_type": "code",
      "execution_count": null,
      "metadata": {
        "id": "gx-hFjXIGRSq",
        "vscode": {
          "languageId": "python"
        }
      },
      "outputs": [],
      "source": [
        "text = \"this is about tokenization\"\n",
        "\n",
        "encoded_input = tokenizer(text, return_tensors=\"pt\")\n",
        "output = model(**encoded_input)"
      ]
    },
    {
      "cell_type": "markdown",
      "metadata": {
        "id": "7KkuT8ETGRSq"
      },
      "source": [
        "让我们看一下对句子进行的分词处理："
      ]
    },
    {
      "cell_type": "code",
      "execution_count": null,
      "metadata": {
        "id": "hzCoO1lVGRSr",
        "outputId": "a200d51b-acf7-4746-e5ea-46d5732718d4",
        "vscode": {
          "languageId": "python"
        }
      },
      "outputs": [
        {
          "data": {
            "text/plain": [
              "['[CLS]', 'this', 'is', 'about', 'token', '##ization', '[SEP]']"
            ]
          },
          "execution_count": null,
          "metadata": {},
          "output_type": "execute_result"
        }
      ],
      "source": [
        "tokenizer.tokenize(text, add_special_tokens=True)"
      ]
    },
    {
      "cell_type": "markdown",
      "metadata": {
        "id": "JWaRu7JpGRSr"
      },
      "source": [
        "所以我们想要通过对标记4和5的嵌入进行平均来汇集它们的嵌入。让我们首先获取这些标记的嵌入。"
      ]
    },
    {
      "cell_type": "code",
      "execution_count": null,
      "metadata": {
        "id": "nAUn0dI8GRSr",
        "outputId": "48d7559b-3e52-4005-ab1a-a183bc9e641a",
        "vscode": {
          "languageId": "python"
        }
      },
      "outputs": [
        {
          "data": {
            "text/plain": [
              "torch.Size([2, 768])"
            ]
          },
          "execution_count": null,
          "metadata": {},
          "output_type": "execute_result"
        }
      ],
      "source": [
        "word_token_indices = [4, 5]\n",
        "word_embeddings = output[\"last_hidden_state\"][0, word_token_indices]\n",
        "word_embeddings.shape"
      ]
    },
    {
      "cell_type": "markdown",
      "metadata": {
        "id": "VMS8NqvVGRSr"
      },
      "source": [
        "现在让我们使用`torch.mean`对它们进行平均。"
      ]
    },
    {
      "cell_type": "code",
      "execution_count": null,
      "metadata": {
        "id": "CC6HaShzGRSr",
        "outputId": "e995be3d-7743-4fa8-c195-7fadcdc844a0",
        "vscode": {
          "languageId": "python"
        }
      },
      "outputs": [
        {
          "data": {
            "text/plain": [
              "torch.Size([768])"
            ]
          },
          "execution_count": null,
          "metadata": {},
          "output_type": "execute_result"
        }
      ],
      "source": [
        "import torch\n",
        "\n",
        "torch.mean(word_embeddings, dim=0).shape"
      ]
    },
    {
      "cell_type": "markdown",
      "metadata": {
        "id": "6XaSIPx2GRSr"
      },
      "source": [
        "让我们将所有这些内容封装到一个函数中，这样我们以后就可以轻松使用它。"
      ]
    },
    {
      "cell_type": "code",
      "execution_count": null,
      "metadata": {
        "id": "cckTvuE3GRSr",
        "vscode": {
          "languageId": "python"
        }
      },
      "outputs": [],
      "source": [
        "def get_word_embedding(text, word):\n",
        "    # Encode the text and do a forward pass through the model to get the hidden states\n",
        "    encoded_input = tokenizer(text, return_tensors=\"pt\")\n",
        "    with torch.no_grad():  # We don't need gradients for embedding extraction\n",
        "        output = model(**encoded_input)\n",
        "\n",
        "    # Find the indices for the word\n",
        "    word_ids = tokenizer.encode(\n",
        "        word, add_special_tokens=False\n",
        "    )  # No special tokens anymore\n",
        "    word_token_indices = [\n",
        "        i\n",
        "        for i, token_id in enumerate(encoded_input[\"input_ids\"][0])\n",
        "        if token_id in word_ids\n",
        "    ]\n",
        "\n",
        "    # Pool the embeddings for the word\n",
        "    word_embeddings = output[\"last_hidden_state\"][0, word_token_indices]\n",
        "    return torch.mean(word_embeddings, dim=0)"
      ]
    },
    {
      "cell_type": "markdown",
      "metadata": {
        "id": "p9ICAYNXGRSr"
      },
      "source": [
        "**例子1.** 在两者都生气的情况下，\"king\"和\"queen\"嵌入之间的相似度。"
      ]
    },
    {
      "cell_type": "code",
      "execution_count": null,
      "metadata": {
        "id": "7TmL4hbUGRSr",
        "outputId": "751591e0-4115-4b5d-90ba-63e7d4f7c486",
        "vscode": {
          "languageId": "python"
        }
      },
      "outputs": [
        {
          "data": {
            "text/plain": [
              "tensor([[0.8564]])"
            ]
          },
          "execution_count": null,
          "metadata": {},
          "output_type": "execute_result"
        }
      ],
      "source": [
        "util.pytorch_cos_sim(\n",
        "    get_word_embedding(\"The king is angry\", \"king\"),\n",
        "    get_word_embedding(\"The queen is angry\", \"queen\"),\n",
        ")"
      ]
    },
    {
      "cell_type": "markdown",
      "metadata": {
        "id": "YtFESD0OGRSr"
      },
      "source": [
        "**例子2.** 在king快乐而queen生气的情况下，\"king\"和\"queen\"嵌入之间的相似度。请注意，它们比之前的例子中相似度较低。"
      ]
    },
    {
      "cell_type": "code",
      "execution_count": null,
      "metadata": {
        "id": "zGCyE6i7GRSs",
        "outputId": "f6d6e9eb-970e-488a-fe0b-368498c8f735",
        "vscode": {
          "languageId": "python"
        }
      },
      "outputs": [
        {
          "data": {
            "text/plain": [
              "tensor([[0.8273]])"
            ]
          },
          "execution_count": null,
          "metadata": {},
          "output_type": "execute_result"
        }
      ],
      "source": [
        "util.pytorch_cos_sim(\n",
        "    get_word_embedding(\"The king is happy\", \"king\"),\n",
        "    get_word_embedding(\"The queen is angry\", \"queen\"),\n",
        ")"
      ]
    },
    {
      "cell_type": "markdown",
      "metadata": {
        "id": "nlppsN1WGRSs"
      },
      "source": [
        "**例子3**. 在两个非常不同的上下文中，\"king\"嵌入之间的相似度。即使它们是相同的单词，单词的不同上下文使得嵌入非常不同。"
      ]
    },
    {
      "cell_type": "code",
      "execution_count": null,
      "metadata": {
        "id": "hjA9bSeSGRSs",
        "outputId": "6f73bf9d-e7d5-46f6-eb29-05aed06f0db2",
        "vscode": {
          "languageId": "python"
        }
      },
      "outputs": [
        {
          "data": {
            "text/plain": [
              "tensor([[0.5740]])"
            ]
          },
          "execution_count": null,
          "metadata": {},
          "output_type": "execute_result"
        }
      ],
      "source": [
        "# This is same as before\n",
        "util.pytorch_cos_sim(\n",
        "    get_word_embedding(\"The king and the queen are happy.\", \"king\"),\n",
        "    get_word_embedding(\"The angry and unhappy king\", \"king\"),\n",
        ")"
      ]
    },
    {
      "cell_type": "markdown",
      "metadata": {
        "id": "7z-CRG4iGRSs"
      },
      "source": [
        "**例子4.** 一个具有两个不同含义的单词的相似度。单词\"bank\"是含糊不清的，它既可以是河岸，也可以是储蓄银行。根据上下文的不同，嵌入也会不同。"
      ]
    },
    {
      "cell_type": "code",
      "execution_count": null,
      "metadata": {
        "id": "PZVmxTdhGRSs",
        "outputId": "d661cb69-235a-46a2-a19e-50a78826121f",
        "vscode": {
          "languageId": "python"
        }
      },
      "outputs": [
        {
          "data": {
            "text/plain": [
              "tensor([[0.7587]])"
            ]
          },
          "execution_count": null,
          "metadata": {},
          "output_type": "execute_result"
        }
      ],
      "source": [
        "util.pytorch_cos_sim(\n",
        "    get_word_embedding(\"The river bank\", \"bank\"),\n",
        "    get_word_embedding(\"The savings bank\", \"bank\"),\n",
        ")"
      ]
    },
    {
      "cell_type": "markdown",
      "metadata": {
        "id": "w7j5Jif1GRSs"
      },
      "source": [
        "希望这些例子能给你提供了关于什么是词嵌入的概念。既然我们了解了词嵌入，现在让我们来看看句子嵌入吧！"
      ]
    },
    {
      "cell_type": "markdown",
      "metadata": {
        "id": "ODIPpPnQGRSs"
      },
      "source": [
        "### 句子嵌入\n",
        "\n",
        "正如词嵌入是单词的向量表示一样，句子嵌入是句子的向量表示。我们也可以计算段落和文档的嵌入！让我们深入研究一下。\n",
        "\n",
        "我们可以采取三种方法：`[CLS]`池化、最大池化和平均池化。\n",
        "\n",
        "* 平均池化意味着对句子的所有单词嵌入进行平均。\n",
        "* 最大池化意味着取每个维度的单词嵌入的最大值。\n",
        "* `[CLS]`池化意味着使用与`[CLS]`标记相对应的嵌入作为句子嵌入。让我们更深入地研究最后一个，这是最不直观的。\n",
        "\n",
        "\n",
        "\n",
        "\n",
        "\n",
        "#### [CLS]池化\n",
        "\n",
        "正如我们之前看到的，BERT在句子开头添加了一个特殊标记`[CLS]`。这个标记用于表示整个句子。例如，当有人想要微调BERT模型以执行文本分类时，一个常见的方法是在`[CLS]`嵌入的顶部添加一个线性层。这个想法是`[CLS]`标记将捕捉整个句子的含义。\n",
        "\n",
        "![The hidden state/embedding corresponding to the `CLS` token can be used to fine-tune a classification model.](https://github.com/osanseviero/hackerllama/blob/main/nbs/blog/posts/sentence_embeddings/classification.png?raw=1)\n",
        "\n",
        "我们可以采取相同的方法，使用`[CLS]`标记的嵌入作为句子嵌入。让我们看看在代码中如何实现这一点。我们将使用与之前相同的句子。"
      ]
    },
    {
      "cell_type": "code",
      "execution_count": null,
      "metadata": {
        "id": "pIj-B3RiGRSs",
        "outputId": "0ed6306b-38ea-4354-d327-d80c7143a515",
        "vscode": {
          "languageId": "python"
        }
      },
      "outputs": [
        {
          "data": {
            "text/plain": [
              "torch.Size([1, 768])"
            ]
          },
          "execution_count": null,
          "metadata": {},
          "output_type": "execute_result"
        }
      ],
      "source": [
        "encoded_input = tokenizer(\"This is an example sentence\", return_tensors=\"pt\")\n",
        "model_output = model(**encoded_input)\n",
        "sentence_embedding = model_output[\"last_hidden_state\"][:, 0, :]\n",
        "sentence_embedding.shape"
      ]
    },
    {
      "cell_type": "markdown",
      "metadata": {
        "id": "NLGm7PZBGRSs"
      },
      "source": [
        "太棒了！我们获得了模型输出的第一个嵌入，对应于`[CLS]`标记。让我们将这段代码封装到一个函数中。"
      ]
    },
    {
      "cell_type": "code",
      "execution_count": null,
      "metadata": {
        "id": "tX7xDEBbGRSs",
        "vscode": {
          "languageId": "python"
        }
      },
      "outputs": [],
      "source": [
        "def cls_pooling(model_output):\n",
        "    return model_output[\"last_hidden_state\"][:, 0, :]\n",
        "\n",
        "\n",
        "def get_sentence_embedding(text):\n",
        "    encoded_input = tokenizer(text, return_tensors=\"pt\")\n",
        "    with torch.no_grad():\n",
        "        model_output = model(**encoded_input)\n",
        "    return cls_pooling(model_output)"
      ]
    },
    {
      "cell_type": "code",
      "execution_count": null,
      "metadata": {
        "id": "F9NgyzJFGRSs",
        "outputId": "a2ec7e49-9b1a-40a9-f6c9-1da0e5f8f8d0",
        "vscode": {
          "languageId": "python"
        }
      },
      "outputs": [
        {
          "name": "stdout",
          "output_type": "stream",
          "text": [
            "tensor([[0.9261]]) The weather today is beautiful\n",
            "tensor([[0.8903]]) It's raining!\n",
            "tensor([[0.9317]]) Dogs are awesome\n"
          ]
        }
      ],
      "source": [
        "embeddings = [get_sentence_embedding(sentence) for sentence in sentences]\n",
        "query_embedding = get_sentence_embedding(\"Today is a sunny day\")\n",
        "for embedding, sentence in zip(embeddings, sentences):\n",
        "    similarity = util.pytorch_cos_sim(query_embedding, embedding)\n",
        "    print(similarity, sentence)"
      ]
    },
    {
      "cell_type": "markdown",
      "metadata": {
        "id": "K1XpnmVKGRSt"
      },
      "source": [
        "嗯...这里似乎有些问题🤔 本来期望这个能直接奏效的。\n",
        "\n",
        "事实证明BERT还有一个额外的技巧。如前所述，当BERT被训练时，CLS标记被用来预测两个句子是否连续。为了做到这一点，BERT处理与[CLS]对应的嵌入，并将其通过一个线性层和一个tanh激活函数（参见[此处代码](https://github.com/huggingface/transformers/blob/95754b47a6d4fbdad3440a45762531e8c471c528/src/transformers/models/bert/modeling_bert.py#L652C7-L665)）。这个想法是，线性层和tanh激活函数将学习到`[CLS]`标记的更好表示。这是BERT模型的`pooler`组件，用于获取`model_output.pooler_output`。\n",
        "\n",
        ":::注意\n",
        "\n",
        "这可能听起来有些混乱，所以让我们重复一下这里发生了什么：\n",
        "\n",
        "1. BERT 输出每个标记的嵌入。\n",
        "2. 第一个嵌入对应于`[CLS]`标记。\n",
        "3. `[CLS]`标记经过一个线性层和一个tanh激活函数进行处理，以获取`pooler_output`。\n",
        "\n",
        "在训练过程中，`pooler_output`用于预测两个句子是否连续（BERT的预训练任务之一）。这使得处理`[CLS]`标记比处理原始的`[CLS]`嵌入更有意义。\n",
        "\n",
        ":::"
      ]
    },
    {
      "cell_type": "markdown",
      "metadata": {
        "id": "UKTut-HzGRSt"
      },
      "source": [
        "为了表明这里没有什么魔法，我们可以将单词嵌入的列表传递给`model.pooler`，或者简单地从模型输出中获取`pooler_output`。让我们试试看！"
      ]
    },
    {
      "cell_type": "code",
      "execution_count": null,
      "metadata": {
        "id": "Fvbktl7FGRSt",
        "outputId": "6aeae18d-d1b8-43aa-c20d-dd541808983e",
        "vscode": {
          "languageId": "python"
        }
      },
      "outputs": [
        {
          "data": {
            "text/plain": [
              "tensor([-0.9302, -0.4884, -0.4387,  0.8024,  0.3668, -0.3349,  0.9438,  0.3593,\n",
              "        -0.3216, -1.0000], grad_fn=<SliceBackward0>)"
            ]
          },
          "execution_count": null,
          "metadata": {},
          "output_type": "execute_result"
        }
      ],
      "source": [
        "model.pooler(model_output[\"last_hidden_state\"])[0][:10]"
      ]
    },
    {
      "cell_type": "code",
      "execution_count": null,
      "metadata": {
        "id": "Xm9_v3fFGRSt",
        "outputId": "c8d0d765-6b95-48f2-8bab-b63183d5bca8",
        "vscode": {
          "languageId": "python"
        }
      },
      "outputs": [
        {
          "data": {
            "text/plain": [
              "tensor([-0.9302, -0.4884, -0.4387,  0.8024,  0.3668, -0.3349,  0.9438,  0.3593,\n",
              "        -0.3216, -1.0000], grad_fn=<SliceBackward0>)"
            ]
          },
          "execution_count": null,
          "metadata": {},
          "output_type": "execute_result"
        }
      ],
      "source": [
        "model_output[\"pooler_output\"][0][:10]"
      ]
    },
    {
      "cell_type": "markdown",
      "metadata": {
        "id": "A6Vsv1KdGRSt"
      },
      "source": [
        "太棒了！正如你所看到的，嵌入的前十个元素是相同的！现在让我们使用这种新的嵌入技术重新计算距离："
      ]
    },
    {
      "cell_type": "code",
      "execution_count": null,
      "metadata": {
        "id": "BEGCAQP5GRSt",
        "outputId": "b80068b1-2e46-48bb-b595-cf87cb48d944",
        "vscode": {
          "languageId": "python"
        }
      },
      "outputs": [
        {
          "name": "stdout",
          "output_type": "stream",
          "text": [
            "tensor([[0.9673]], grad_fn=<MmBackward0>) The weather today is beautiful\n",
            "tensor([[0.9029]], grad_fn=<MmBackward0>) It's raining!\n",
            "tensor([[0.8930]], grad_fn=<MmBackward0>) Dogs are awesome\n"
          ]
        }
      ],
      "source": [
        "def cls_pooling(model_output):\n",
        "    return model.pooler(model_output[\"last_hidden_state\"])  # we changed this\n",
        "\n",
        "\n",
        "# This stays the same\n",
        "embeddings = [get_sentence_embedding(sentence) for sentence in sentences]\n",
        "query_embedding = get_sentence_embedding(\"Today is a sunny day\")\n",
        "for embedding, sentence in zip(embeddings, sentences):\n",
        "    similarity = util.pytorch_cos_sim(query_embedding, embedding)\n",
        "    print(similarity, sentence)"
      ]
    },
    {
      "cell_type": "markdown",
      "metadata": {
        "id": "0RtM2C7eGRSt"
      },
      "source": [
        "好多了！我们刚刚获得了与“今天天气晴朗”最相似的句子。"
      ]
    },
    {
      "cell_type": "markdown",
      "metadata": {
        "id": "QLyPAUBvGRSt"
      },
      "source": [
        "## Sentence Transformers\n",
        "\n",
        "### 使用transformers库\n",
        "\n",
        "这产生了一些不错的结果，但实际上，这并不比使用Word2Vec或GloVe词嵌入并对它们进行平均要好多少。原因是`[CLS]`标记并不是被训练成一个良好的句子嵌入。它是为了进行下一个句子预测而训练的！\n",
        "介绍 🥁🥁🥁 Sentence Transformers ！ Sentence Transformers（也称为SBERT）具有专门的训练技术，专注于产生高质量的句子嵌入。 就像这篇博客文章的摘要部分一样，让我们使用[all-MiniLM-L6-v2](https://huggingface.co/sentence-transformers/all-MiniLM-L6-v2)模型。 在开始时，我们使用了`sentence-transformers`库，这是一个围绕`transformers`的高级封装库。 让我们先试着走一条艰难的道路吧！ 过程如下：\n",
        "\n",
        "1. 我们对输入句子进行分词。\n",
        "2. 我们通过模型处理这些标记。\n",
        "3. 我们计算标记嵌入的平均值。\n",
        "4. 我们对嵌入进行归一化，以确保嵌入向量具有单位长度。"
      ]
    },
    {
      "cell_type": "markdown",
      "metadata": {
        "id": "bmvWpuMnGRSt"
      },
      "source": [
        "就像之前一样，我们可以加载模型和分词器，对句子进行分词，然后将其传递给模型。"
      ]
    },
    {
      "cell_type": "code",
      "execution_count": null,
      "metadata": {
        "id": "HyeAe-PgGRSt",
        "vscode": {
          "languageId": "python"
        }
      },
      "outputs": [],
      "source": [
        "tokenizer = AutoTokenizer.from_pretrained(\"sentence-transformers/all-MiniLM-L6-v2\")\n",
        "model = AutoModel.from_pretrained(\"sentence-transformers/all-MiniLM-L6-v2\")\n",
        "encoded_input = tokenizer(\"Today is a sunny day\", return_tensors=\"pt\")\n",
        "model_output = model(**encoded_input)"
      ]
    },
    {
      "cell_type": "markdown",
      "metadata": {
        "id": "EnXsHHxDGRSu"
      },
      "source": [
        "到目前为止，我们所做的与之前非常相似，只是我们使用了不同的模型。接下来的步骤是进行池化。虽然以前我们使用了[CLS]池化，但句子转换器通常使用平均池化或最大池化。让我们试试看！"
      ]
    },
    {
      "cell_type": "code",
      "execution_count": null,
      "metadata": {
        "id": "QkJxqrhxGRSu",
        "outputId": "26ac5ea9-802d-45fc-9a7b-e67493dfee87",
        "vscode": {
          "languageId": "python"
        }
      },
      "outputs": [
        {
          "data": {
            "text/plain": [
              "torch.Size([1, 7, 384])"
            ]
          },
          "execution_count": null,
          "metadata": {},
          "output_type": "execute_result"
        }
      ],
      "source": [
        "token_embeddings = model_output[\"last_hidden_state\"]\n",
        "token_embeddings.shape"
      ]
    },
    {
      "cell_type": "markdown",
      "metadata": {
        "id": "OHIBuX8MGRSu"
      },
      "source": [
        "请注意，使用此模型，每个嵌入都更小（384个值而不是768个）。现在我们可以计算嵌入的平均值以获得句子嵌入。"
      ]
    },
    {
      "cell_type": "code",
      "execution_count": null,
      "metadata": {
        "id": "XxSe5xGUGRSu",
        "outputId": "b29a9daf-7f48-4820-dd25-21013d2e7291",
        "vscode": {
          "languageId": "python"
        }
      },
      "outputs": [
        {
          "data": {
            "text/plain": [
              "torch.Size([1, 384])"
            ]
          },
          "execution_count": null,
          "metadata": {},
          "output_type": "execute_result"
        }
      ],
      "source": [
        "mean_embedding = torch.mean(token_embeddings, dim=1)\n",
        "mean_embedding.shape"
      ]
    },
    {
      "cell_type": "markdown",
      "metadata": {
        "id": "FaEqD1yMGRSu"
      },
      "source": [
        "最后一步是进行归一化。归一化确保嵌入向量具有单位长度，这意味着它的长度（或大小）为1。\n",
        "\n",
        ":::{.callout-note title=\"什么是归一化\"}\n",
        "\n",
        "要理解为什么我们进行归一化，重新审视一些向量数学是有帮助的。 对于一个具有分量（v1，v2，…，vn）的向量 v，它的长度被定义为\n",
        "\n",
        "$$\n",
        "\\| \\mathbf{v} \\| = \\sqrt{v_1^2 + v_2^2 + \\ldots + v_n^2}\n",
        "$$\n",
        "\n",
        "当归一化一个向量时，我们缩放值，使得向量长度为1。 这是通过将每个向量元素除以向量的大小来完成的。\n",
        "\n",
        "$$\n",
        "\\mathbf{u} = \\frac{\\mathbf{v}}{\\| \\mathbf{v} \\|}\n",
        "$$\n",
        "\n",
        ":::\n",
        "\n",
        "这在我们想要比较向量时特别有用。例如，如果我们想要计算两个向量之间的余弦相似度，我们通常比较它们的方向而不是它们的长度。将向量归一化可以确保每个向量对相似度的计算有均等的贡献。我们稍后会更多讨论嵌入（embedding）比较的内容！让我们试试看！\n",
        "\n",
        "\n",
        ":::{.callout-note}\n",
        "\n",
        "实际上，我们正在使用余弦相似度来计算嵌入向量之间的相似性。正如我们稍后在博客文章中将会看到的，计算余弦相似度时嵌入向量的长度并不重要，但如果我们想要尝试其他测量距离的方法，对它们进行归一化仍然是一个好主意。\n",
        "\n",
        "\n",
        ":::"
      ]
    },
    {
      "cell_type": "code",
      "execution_count": null,
      "metadata": {
        "id": "bwPoanTxGRSu",
        "outputId": "8cdc0a48-5114-435e-ae7e-d8aa0b795075",
        "vscode": {
          "languageId": "python"
        }
      },
      "outputs": [
        {
          "data": {
            "text/plain": [
              "torch.Size([1, 384])"
            ]
          },
          "execution_count": null,
          "metadata": {},
          "output_type": "execute_result"
        }
      ],
      "source": [
        "import torch.nn.functional as F\n",
        "\n",
        "normalized_embedding = F.normalize(mean_embedding)\n",
        "normalized_embedding.shape"
      ]
    },
    {
      "cell_type": "markdown",
      "metadata": {
        "id": "Dq3E_UylGRSu"
      },
      "source": [
        "让我们将这个功能封装成一个函数！\n"
      ]
    },
    {
      "cell_type": "code",
      "execution_count": null,
      "metadata": {
        "id": "EdTMo03eGRSu",
        "outputId": "712a6476-816e-4c5a-ac48-c1982f5ef174",
        "vscode": {
          "languageId": "python"
        }
      },
      "outputs": [
        {
          "data": {
            "text/plain": [
              "tensor([-0.0926,  0.5913,  0.5535,  0.4214,  0.2129])"
            ]
          },
          "execution_count": null,
          "metadata": {},
          "output_type": "execute_result"
        }
      ],
      "source": [
        "def mean_pooling(model_output):\n",
        "    return torch.mean(model_output[\"last_hidden_state\"], dim=1)\n",
        "\n",
        "\n",
        "def get_sentence_embedding(text):\n",
        "    encoded_input = tokenizer(text, return_tensors=\"pt\")\n",
        "    with torch.no_grad():\n",
        "        model_output = model(**encoded_input)\n",
        "    sentence_embeddings = mean_pooling(model_output)\n",
        "    return F.normalize(sentence_embeddings)\n",
        "\n",
        "\n",
        "get_sentence_embedding(\"Today is a sunny day\")[0][:5]"
      ]
    },
    {
      "cell_type": "markdown",
      "metadata": {
        "id": "dJb14CHsGRSu"
      },
      "source": [
        "在实践中，您可能需要编码一批句子，所以我们需要做一些改动\n",
        "\n",
        "* 修改分词操作，以便我们应用“截断”（如果句子长度超过最大长度则进行裁剪）和“填充”（在句子末尾添加[PAD]标记）。\n",
        "\n",
        "* 修改池化操作，以便我们考虑注意力掩码。注意力掩码是一个由0和1组成的向量，它指示哪些令牌是真实的，哪些是填充的。在计算平均值时，我们希望忽略填充令牌！\n"
      ]
    },
    {
      "cell_type": "code",
      "execution_count": null,
      "metadata": {
        "id": "1vbO5EzhGRSu",
        "vscode": {
          "languageId": "python"
        }
      },
      "outputs": [],
      "source": [
        "def mean_pooling(model_output, attention_mask):\n",
        "    token_embeddings = model_output[\"last_hidden_state\"]\n",
        "    input_mask_expanded = (\n",
        "        attention_mask.unsqueeze(-1).expand(token_embeddings.size()).float()\n",
        "    )\n",
        "    return torch.sum(token_embeddings, 1) / torch.clamp(\n",
        "        input_mask_expanded.sum(1), min=1e-9\n",
        "    )\n",
        "\n",
        "\n",
        "# This now receives a list of sentences\n",
        "def get_sentence_embedding(sentences):\n",
        "    encoded_input = tokenizer(\n",
        "        sentences, padding=True, truncation=True, return_tensors=\"pt\"\n",
        "    )\n",
        "    with torch.no_grad():\n",
        "        model_output = model(**encoded_input)\n",
        "    sentence_embeddings = mean_pooling(model_output, encoded_input[\"attention_mask\"])\n",
        "    return F.normalize(sentence_embeddings)"
      ]
    },
    {
      "cell_type": "code",
      "execution_count": null,
      "metadata": {
        "id": "W10LqslDGRSu",
        "outputId": "0fce1782-9653-4808-ade3-3adef0a0b538",
        "vscode": {
          "languageId": "python"
        }
      },
      "outputs": [
        {
          "data": {
            "text/plain": [
              "tensor([-0.0163,  0.1041,  0.0974,  0.0742,  0.0375])"
            ]
          },
          "execution_count": null,
          "metadata": {},
          "output_type": "execute_result"
        }
      ],
      "source": [
        "query_embedding = get_sentence_embedding(\"Today is a sunny day\")[0]\n",
        "query_embedding[:5]"
      ]
    },
    {
      "cell_type": "markdown",
      "metadata": {
        "id": "TlwQivO9GRSv"
      },
      "source": [
        "我们得到了相同的结果，太好了！现在让我们重复之前的搜索示例。\n"
      ]
    },
    {
      "cell_type": "code",
      "execution_count": null,
      "metadata": {
        "id": "OwVLiypuGRSv",
        "outputId": "0c8ee79f-e337-41e0-981a-57d979973f44",
        "vscode": {
          "languageId": "python"
        }
      },
      "outputs": [
        {
          "name": "stdout",
          "output_type": "stream",
          "text": [
            "tensor([[0.7344]]) The weather today is beautiful\n",
            "tensor([[0.4180]]) It's raining!\n",
            "tensor([[0.1060]]) Dogs are awesome\n"
          ]
        }
      ],
      "source": [
        "embeddings = [get_sentence_embedding(sentence) for sentence in sentences]\n",
        "for embedding, sentence in zip(embeddings, sentences):\n",
        "    similarity = util.pytorch_cos_sim(query_embedding, embedding)\n",
        "    print(similarity, sentence)"
      ]
    },
    {
      "cell_type": "markdown",
      "metadata": {
        "id": "G_68Q_PuGRSv"
      },
      "source": [
        "很好！与普通的BERT [CLS]池化嵌入相比，句子转换器嵌入更有意义，并且在无关向量之间的差异更大！\n"
      ]
    },
    {
      "cell_type": "markdown",
      "metadata": {
        "id": "1QA5PIJlGRSv"
      },
      "source": [
        ":::callout\n",
        "\n",
        "何时使用每种池化策略？这取决于任务。\n",
        "\n",
        "* `[CLS]` 当transformer模型已经在特定的下游任务上进行了微调，使得`[CLS]`标记非常有用时，通常会使用`[CLS]`池化。\n",
        "\n",
        "* 平均池化通常在没有在下游任务上微调的模型上更有效。它确保句子的所有部分在嵌入中都有平等的代表性，并且可以用于需要捕获所有标记影响的长句子上。\n",
        "\n",
        "* 最大池化可以用来捕获句子中最重要特征。如果特定的关键词非常有信息量，这会非常有用，但它可能会忽略更微妙的内容。\n",
        "\n",
        "\n",
        "在实践中，池化方法将与模型一起存储，您不必担心它。如果没有指定方法，平均池化通常是一个很好的默认选择。\n",
        "\n",
        ":::"
      ]
    },
    {
      "cell_type": "markdown",
      "metadata": {
        "id": "Ys59YQUwGRSv"
      },
      "source": [
        "### 使用 sentence-transformers 库\n",
        "\n",
        "这相对容易，但是`sentence-transformers`库使我们能够更轻松地完成所有这些工作！以下是与摘要部分相同的代码。"
      ]
    },
    {
      "cell_type": "code",
      "execution_count": null,
      "metadata": {
        "id": "tqJvkEDNGRSv",
        "outputId": "66aba6ec-5c2a-4684-a6c0-1ba6732bd3f1",
        "vscode": {
          "languageId": "python"
        }
      },
      "outputs": [
        {
          "name": "stdout",
          "output_type": "stream",
          "text": [
            "tensor([[0.7344]]) The weather today is beautiful\n",
            "tensor([[0.4180]]) It's raining!\n",
            "tensor([[0.1060]]) Dogs are awesome\n"
          ]
        }
      ],
      "source": [
        "from sentence_transformers import SentenceTransformer\n",
        "\n",
        "# We load the model\n",
        "model = SentenceTransformer(\"sentence-transformers/all-MiniLM-L6-v2\")\n",
        "\n",
        "query_embedding = model.encode(\"Today is a sunny day\")\n",
        "embeddings = model.encode(sentences)\n",
        "\n",
        "for embedding, sentence in zip(embeddings, sentences):\n",
        "    similarity = util.pytorch_cos_sim(query_embedding, embedding)\n",
        "    print(similarity, sentence)"
      ]
    },
    {
      "cell_type": "markdown",
      "metadata": {
        "id": "882yWtx-GRSv"
      },
      "source": [
        "这相当强大！如果您不使用机器学习来实现识别重复问题的功能，您可能需要实现一个词汇搜索系统（查找输入问题的精确匹配）、一个模糊搜索系统（查找输入问题的近似匹配）或一个统计搜索系统（查找输入问题中单词的频率）。\n",
        "\n",
        "有了嵌入，我们可以轻松地找到相似的问题，而不需要实现任何这些系统，并且取得了出色的结果！"
      ]
    },
    {
      "cell_type": "markdown",
      "metadata": {
        "id": "x8enk5-aGRSw"
      },
      "source": [
        "以下图片是如何使用嵌入来找到能够回答用户问题的代码的一个很好的例子\n",
        "\n",
        "![Image of code search](https://github.com/osanseviero/hackerllama/blob/main/nbs/blog/posts/sentence_embeddings/search.png?raw=1)"
      ]
    },
    {
      "cell_type": "markdown",
      "metadata": {
        "id": "bf_DF8h2GRSw"
      },
      "source": [
        "### 嵌入维度\n",
        "\n",
        "正如您之前所见，我们使用的模型all-MiniLM-L6-v2生成了384个值的句子嵌入。这是模型的一个超参数，可以进行更改。嵌入大小越大，嵌入能够捕获的信息就越多。然而，较大的嵌入计算和存储成本更高。\n",
        "\n",
        "流行的开源模型的嵌入维度从384到1024不等。截至撰写本文时，最好的当前模型的嵌入维度为4096个值，但与其他模型相比，该模型要大得多（70亿个参数）。在封闭源世界中，Cohere具有从384到4096维的API，OpenAI的嵌入维度为1536等等。**嵌入维度是一种权衡**。如果您使用非常大的嵌入，您可能会获得更好的结果，但您也将不得不为托管和推理付出更多的费用。如果您使用向量数据库，您还将不得不为存储支付更多费用。"
      ]
    },
    {
      "cell_type": "markdown",
      "metadata": {
        "id": "7JeEP-MzGRSw"
      },
      "source": [
        "### 序列长度\n",
        "\n",
        "Transformer模型的一个限制是它们具有最大的序列长度。这意味着它们只能处理一定数量的标记。例如，BERT的最大上下文长度为512个标记。这意味着如果您想要编码一个超过512个标记的句子，您将不得不找到解决此限制的方法。例如，您可以将句子拆分为多个包含512个标记的句子，然后对嵌入进行平均。这不是理想的，因为模型将无法捕获整个句子的上下文。\n",
        "\n",
        "这对于大多数用例来说不是问题，但对于长文档可能会有问题。例如，如果您想要编码一个1000字的文档，您将不得不将其拆分为多个包含512个标记的句子。这不是理想的，因为模型将无法捕获整个文档的上下文。另一种方法是首先生成文本摘要，然后对摘要进行编码。如果您想编码长文档，这是一个好方法，但会需要一个可能太慢的好的摘要模型。或者，您可能知道文档的特定部分是否合适（例如摘要、引言、结论等），如果对于您的任务来说这部分是最有意义的，则只对该部分进行编码。"
      ]
    },
    {
      "cell_type": "markdown",
      "metadata": {
        "id": "VX8t4XAsGRSw"
      },
      "source": [
        "## 应用一： 查找最相似的Quora相似问题"
      ]
    },
    {
      "cell_type": "markdown",
      "metadata": {
        "id": "o8osGLZ9GRSx"
      },
      "source": [
        "我们将使用开源的[Quora数据集](https://huggingface.co/datasets/quora)，其中包含来自Quora的40万对问题。我们暂时不会训练模型，而是仅使用嵌入来查找给定新问题的相似问题。让我们开始吧！\n",
        "\n",
        "我们的第一步是加载数据 - 为此，我们将使用 `datasets` 库。"
      ]
    },
    {
      "cell_type": "code",
      "execution_count": null,
      "metadata": {
        "id": "dn9wYBn1GRSx",
        "vscode": {
          "languageId": "python"
        }
      },
      "outputs": [],
      "source": [
        "%%capture\n",
        "!pip install datasets"
      ]
    },
    {
      "cell_type": "code",
      "execution_count": null,
      "metadata": {
        "id": "g9OKJYweGRSx",
        "outputId": "4ffad3c2-72b1-4335-f147-7e36b29d0de4",
        "vscode": {
          "languageId": "python"
        }
      },
      "outputs": [
        {
          "data": {
            "text/plain": [
              "Dataset({\n",
              "    features: ['questions', 'is_duplicate'],\n",
              "    num_rows: 404290\n",
              "})"
            ]
          },
          "execution_count": null,
          "metadata": {},
          "output_type": "execute_result"
        }
      ],
      "source": [
        "from datasets import load_dataset\n",
        "\n",
        "dataset = load_dataset(\"quora\")[\"train\"]\n",
        "dataset"
      ]
    },
    {
      "cell_type": "markdown",
      "metadata": {
        "id": "QpSR40ohGRSx"
      },
      "source": [
        "为了快速查看 `Dataset` 对象中的数据，我们可以将其转换为 Pandas 的 `DataFrame` 并查看前几行。"
      ]
    },
    {
      "cell_type": "code",
      "execution_count": null,
      "metadata": {
        "id": "UeVa7mS4GRSx",
        "outputId": "6048ce1a-409d-4e0e-fbd7-1609246bece2",
        "vscode": {
          "languageId": "python"
        }
      },
      "outputs": [
        {
          "data": {
            "text/html": [
              "<div>\n",
              "<style scoped>\n",
              "    .dataframe tbody tr th:only-of-type {\n",
              "        vertical-align: middle;\n",
              "    }\n",
              "\n",
              "    .dataframe tbody tr th {\n",
              "        vertical-align: top;\n",
              "    }\n",
              "\n",
              "    .dataframe thead th {\n",
              "        text-align: right;\n",
              "    }\n",
              "</style>\n",
              "<table border=\"1\" class=\"dataframe\">\n",
              "  <thead>\n",
              "    <tr style=\"text-align: right;\">\n",
              "      <th></th>\n",
              "      <th>questions</th>\n",
              "      <th>is_duplicate</th>\n",
              "    </tr>\n",
              "  </thead>\n",
              "  <tbody>\n",
              "    <tr>\n",
              "      <th>0</th>\n",
              "      <td>{'id': [1, 2], 'text': ['What is the step by s...</td>\n",
              "      <td>False</td>\n",
              "    </tr>\n",
              "    <tr>\n",
              "      <th>1</th>\n",
              "      <td>{'id': [3, 4], 'text': ['What is the story of ...</td>\n",
              "      <td>False</td>\n",
              "    </tr>\n",
              "    <tr>\n",
              "      <th>2</th>\n",
              "      <td>{'id': [5, 6], 'text': ['How can I increase th...</td>\n",
              "      <td>False</td>\n",
              "    </tr>\n",
              "    <tr>\n",
              "      <th>3</th>\n",
              "      <td>{'id': [7, 8], 'text': ['Why am I mentally ver...</td>\n",
              "      <td>False</td>\n",
              "    </tr>\n",
              "    <tr>\n",
              "      <th>4</th>\n",
              "      <td>{'id': [9, 10], 'text': ['Which one dissolve i...</td>\n",
              "      <td>False</td>\n",
              "    </tr>\n",
              "  </tbody>\n",
              "</table>\n",
              "</div>"
            ],
            "text/plain": [
              "                                           questions  is_duplicate\n",
              "0  {'id': [1, 2], 'text': ['What is the step by s...         False\n",
              "1  {'id': [3, 4], 'text': ['What is the story of ...         False\n",
              "2  {'id': [5, 6], 'text': ['How can I increase th...         False\n",
              "3  {'id': [7, 8], 'text': ['Why am I mentally ver...         False\n",
              "4  {'id': [9, 10], 'text': ['Which one dissolve i...         False"
            ]
          },
          "execution_count": null,
          "metadata": {},
          "output_type": "execute_result"
        }
      ],
      "source": [
        "dataset.to_pandas().head()"
      ]
    },
    {
      "cell_type": "markdown",
      "metadata": {
        "id": "7f1_H6pWGRSx"
      },
      "source": [
        "好的，所以每个样本都是一个字典。我们在这里不关心 `is_duplicate` 列。我们的目标是找出数据集中是否有任何问题与新问题相似。让我们处理数据集，使我们只有一个问题列表。"
      ]
    },
    {
      "cell_type": "code",
      "execution_count": null,
      "metadata": {
        "id": "y_1OSumrGRSx",
        "outputId": "1a385960-9a88-40f0-9cdf-f489823f864b",
        "vscode": {
          "languageId": "python"
        }
      },
      "outputs": [
        {
          "data": {
            "text/plain": [
              "537362"
            ]
          },
          "execution_count": null,
          "metadata": {},
          "output_type": "execute_result"
        }
      ],
      "source": [
        "corpus_questions = []\n",
        "for d in dataset:\n",
        "    corpus_questions.append(d[\"questions\"][\"text\"][0])\n",
        "    corpus_questions.append(d[\"questions\"][\"text\"][1])\n",
        "corpus_questions = list(set(corpus_questions))  # Remove duplicates\n",
        "len(corpus_questions)"
      ]
    },
    {
      "cell_type": "markdown",
      "metadata": {
        "id": "sBCgrscQGRSx"
      },
      "source": [
        "一步是嵌入所有的问题。我们将使用 `sentence-transformers` 库来实现这一步。我们将使用 [`quora-distilbert-multilingual` 模型](https://huggingface.co/sentence-transformers/quora-distilbert-multilingual)，这是一个为100种语言训练的模型，专门用于Quora风格的问题。这是一个较大的模型，因此稍微慢一些。它还会生成更大的嵌入，有768个值。\n",
        "\n",
        "为了快速获得一些结果，而不必等待模型处理所有问题需要五分钟的时间，我们只处理前100000个问题。在实践中，当进行实验时，您可以处理所有问题或对问题进行洗牌，并处理其中的一个随机子集。"
      ]
    },
    {
      "cell_type": "code",
      "execution_count": null,
      "metadata": {
        "colab": {
          "referenced_widgets": [
            "30cc6aa1ede9402ea9cd36fb9aed9376"
          ]
        },
        "id": "bG9XbqNxGRSx",
        "outputId": "73249c91-000e-4dfe-c6cb-984084ddc6d2",
        "vscode": {
          "languageId": "python"
        }
      },
      "outputs": [
        {
          "data": {
            "application/vnd.jupyter.widget-view+json": {
              "model_id": "30cc6aa1ede9402ea9cd36fb9aed9376",
              "version_major": 2,
              "version_minor": 0
            },
            "text/plain": [
              "Batches:   0%|          | 0/3125 [00:00<?, ?it/s]"
            ]
          },
          "metadata": {},
          "output_type": "display_data"
        }
      ],
      "source": [
        "model = SentenceTransformer(\"quora-distilbert-multilingual\")\n",
        "questions_to_embed = 100000\n",
        "corpus_embeddings = model.encode(\n",
        "    corpus_questions[:questions_to_embed],\n",
        "    show_progress_bar=True,\n",
        "    convert_to_tensor=True,\n",
        ")"
      ]
    },
    {
      "cell_type": "code",
      "execution_count": null,
      "metadata": {
        "id": "fWiVGWc1GRSx",
        "outputId": "34396ccc-c4d8-4d09-a8d1-ed7f4e89c547",
        "vscode": {
          "languageId": "python"
        }
      },
      "outputs": [
        {
          "data": {
            "text/plain": [
              "torch.Size([100000, 768])"
            ]
          },
          "execution_count": null,
          "metadata": {},
          "output_type": "execute_result"
        }
      ],
      "source": [
        "corpus_embeddings.shape"
      ]
    },
    {
      "cell_type": "markdown",
      "metadata": {
        "id": "-paWR_m2GRSy"
      },
      "source": [
        "我们在20秒内仅获得了100,000个嵌入，即使这个Sentence Transformer模型并不小，我在我的显卡性能较弱的计算机上运行。与生成模型不同，它们是自回归的并且通常速度要慢得多，基于BERT的模型非常快！"
      ]
    },
    {
      "cell_type": "markdown",
      "metadata": {
        "id": "x-iNlnPIGRSy"
      },
      "source": [
        "现在让我们编写一个函数，来搜索语料库中最相似的问题。"
      ]
    },
    {
      "cell_type": "code",
      "execution_count": null,
      "metadata": {
        "id": "9IZQ_y8TGRSy",
        "vscode": {
          "languageId": "python"
        }
      },
      "outputs": [],
      "source": [
        "import time\n",
        "\n",
        "\n",
        "def search(query):\n",
        "    start_time = time.time()\n",
        "    query_embedding = model.encode(query, convert_to_tensor=True)\n",
        "    results = util.semantic_search(query_embedding, corpus_embeddings)\n",
        "    end_time = time.time()\n",
        "\n",
        "    print(\"Results (after {:.3f} seconds):\".format(end_time - start_time))\n",
        "    # We look at top 5 results\n",
        "    for result in results[0][:5]:\n",
        "        print(\n",
        "            \"{:.3f}\\t{}\".format(result[\"score\"], corpus_questions[result[\"corpus_id\"]])\n",
        "        )"
      ]
    },
    {
      "cell_type": "code",
      "execution_count": null,
      "metadata": {
        "id": "73gxcNb6GRSy",
        "outputId": "5237118d-c609-44ba-ba16-38fb79980b95",
        "vscode": {
          "languageId": "python"
        }
      },
      "outputs": [
        {
          "name": "stdout",
          "output_type": "stream",
          "text": [
            "Results (after 0.612 seconds):\n",
            "0.982\tWhat is the best online resource to learn Python?\n",
            "0.980\tWhere I should learn Python?\n",
            "0.980\tWhat's the best way to learn Python?\n",
            "0.980\tHow do I learn Python in easy way?\n",
            "0.979\tHow do I learn Python systematically?\n"
          ]
        }
      ],
      "source": [
        "search(\"How can I learn Python online?\")"
      ]
    },
    {
      "cell_type": "markdown",
      "metadata": {
        "id": "Q57WQ61tGRSy"
      },
      "source": [
        "让我们尝试用西班牙语！"
      ]
    },
    {
      "cell_type": "code",
      "execution_count": null,
      "metadata": {
        "id": "hH5V4WIrGRSy",
        "outputId": "b2c1663d-442a-4379-bd79-8583d21a94e0",
        "vscode": {
          "languageId": "python"
        }
      },
      "outputs": [
        {
          "name": "stdout",
          "output_type": "stream",
          "text": [
            "Results (after 0.016 seconds):\n",
            "0.980\tWhat are the best websites to learn Python?\n",
            "0.980\tHow can I start learning the developing of websites using Python?\n",
            "0.979\tHow do I learn Python in easy way?\n",
            "0.976\tHow can I learn Python faster and effectively?\n",
            "0.976\tHow can I learn advanced Python?\n"
          ]
        }
      ],
      "source": [
        "search(\"Como puedo aprender Python online?\")"
      ]
    },
    {
      "cell_type": "markdown",
      "metadata": {
        "id": "yvQhLMeiGRSy"
      },
      "source": [
        "看起来效果相当不错！请注意，虽然我们的模型可以处理其他语言的查询，比如上面的示例中的西班牙语，但嵌入是针对英文问题生成的。这意味着模型将无法在其他语言中找到相似的问题。"
      ]
    },
    {
      "cell_type": "markdown",
      "metadata": {
        "id": "iuX3jBsHGRSy"
      },
      "source": [
        "## 嵌入之间的距离\n",
        "\n",
        "### 余弦相似度\n",
        "\n",
        "到目前为止，我们一直在计算嵌入之间的余弦相似度。这是一个介于0和1之间的数字，表示两个嵌入有多相似。值为1意味着嵌入是相同的，而值为0则意味着嵌入完全不同。到目前为止，我们把它当作一个黑匣子来使用，所以让我们更深入地了解一下。\n",
        "\n",
        "余弦相似度允许我们比较两个向量的相似程度，而不考虑它们的大小。例如，如果我们有两个向量，[1, 2, 3] 和 [2, 4, 6]，它们在方向上非常相似，但它们的大小是不同的。余弦相似度将接近于1，表明它们非常相似。\n"
      ]
    },
    {
      "cell_type": "code",
      "execution_count": null,
      "metadata": {
        "id": "8z4MtJeVGRSy",
        "outputId": "85c586ac-390c-4b85-cfd0-71ac432039e4",
        "vscode": {
          "languageId": "python"
        }
      },
      "outputs": [
        {
          "data": {
            "text/plain": [
              "tensor([[0.9926]])"
            ]
          },
          "execution_count": null,
          "metadata": {},
          "output_type": "execute_result"
        }
      ],
      "source": [
        "a = torch.FloatTensor([1, 2, 3])\n",
        "b = torch.FloatTensor([2, 3, 4])\n",
        "util.cos_sim(a, b)"
      ]
    },
    {
      "cell_type": "markdown",
      "metadata": {
        "id": "2fXeje2SGRSy"
      },
      "source": [
        "让我们绘制这两个向量。正如你所看到的，它们在方向上非常相似，但它们的大小是不同的。"
      ]
    },
    {
      "cell_type": "code",
      "execution_count": null,
      "metadata": {
        "id": "PdFAAgoWGRSy",
        "outputId": "c7765f53-cab5-4867-865f-082bca699afe",
        "vscode": {
          "languageId": "python"
        }
      },
      "outputs": [
        {
          "data": {
            "text/plain": [
              "tensor([1., 2., 3.])"
            ]
          },
          "execution_count": null,
          "metadata": {},
          "output_type": "execute_result"
        }
      ],
      "source": [
        "a"
      ]
    },
    {
      "cell_type": "code",
      "execution_count": null,
      "metadata": {
        "id": "EEA9cBlxGRSz",
        "outputId": "4d1c5d08-39f8-4cc4-d6a4-52b51202d792",
        "vscode": {
          "languageId": "python"
        }
      },
      "outputs": [
        {
          "data": {
            "image/png": "[encoded data removed]",
            "text/plain": [
              "<Figure size 640x480 with 1 Axes>"
            ]
          },
          "metadata": {},
          "output_type": "display_data"
        }
      ],
      "source": [
        "import matplotlib.pyplot as plt\n",
        "import numpy as np\n",
        "\n",
        "V = np.array([a.tolist(), b.tolist()])\n",
        "origin = np.array([[0, 0], [0, 0]])  # origin point\n",
        "\n",
        "plt.quiver(*origin, V[:, 0], V[:, 1], color=[\"r\", \"b\", \"g\"], scale=10)\n",
        "plt.show()"
      ]
    },
    {
      "cell_type": "markdown",
      "metadata": {
        "id": "u3saSuq4GRSz"
      },
      "source": [
        "让我们深入了解其数学原理。余弦相似度被定义为向量的点积除以它们的大小的乘积：\n",
        "\n",
        "$$\n",
        "\\text{cosine similarity}(\\mathbf{A}, \\mathbf{B}) = \\frac{\\mathbf{A} \\cdot \\mathbf{B}}{\\|\\mathbf{A}\\| \\|\\mathbf{B}\\|}\n",
        "$$"
      ]
    },
    {
      "cell_type": "markdown",
      "metadata": {
        "id": "g_ElletGGRSz"
      },
      "source": [
        "我们已经在博客文章开头讨论了大小，我们需要计算一个向量分量的平方和的平方根。\n",
        "\n",
        "$$\n",
        "\\|\\mathbf{A}\\| = \\sqrt{1^2 + 2^2 + 3^2} = \\sqrt{14}\n",
        "$$\n",
        "\n",
        "$$\n",
        "\\|\\mathbf{B}\\| = \\sqrt{2^2 + 3^2 + 4^2} = \\sqrt{29}\n",
        "$$"
      ]
    },
    {
      "cell_type": "markdown",
      "metadata": {
        "id": "eRPsDW3pGRSz"
      },
      "source": [
        "我们还需要计算向量的点积，点积被定义为对应向量分量的乘积之和。\n",
        "\n",
        "$$\n",
        "\\mathbf{A} \\cdot \\mathbf{B} = \\sum_{i=1}^{n} A_i B_i\n",
        "$$\n",
        "\n",
        "在这种情况下，A和B的点积如下所示：\n",
        "\n",
        "$$\n",
        "\\mathbf{A} \\cdot \\mathbf{B} = 1 \\times 2 + 2 \\times 3 + 3 \\times 4 = 2 + 6 + 12 = 20\n",
        "$$\n",
        "\n",
        "最后，我们可以通过进行以下计算来计算余弦相似度:\n",
        "\n",
        "$$\n",
        "\\text{cosine similarity}(\\mathbf{A}, \\mathbf{B}) = \\frac{20}{\\sqrt{14} \\sqrt{29}} = 0.992583\n",
        "$$\n",
        "\n",
        "与我们上面的结果相匹配。"
      ]
    },
    {
      "cell_type": "markdown",
      "metadata": {
        "id": "HmWHmJO_GRSz"
      },
      "source": [
        ":::{.温馨提示}\n",
        "\n",
        "你能想到两个余弦相似度为1的向量吗？想想方向相同但大小不同的向量。\n",
        "\n",
        ":::"
      ]
    },
    {
      "cell_type": "markdown",
      "metadata": {
        "id": "ihhqzJqrGRSz"
      },
      "source": [
        "### 点积\n",
        "\n",
        "余弦相似度不考虑大小，但在某些情况下，大小可能是有意义的。在这些情况下，**点积**是一个更好的度量标准。这意味着长度或更详细的具有相似内容的句子可能会比长度较短的具有相似内容的句子具有更高的相似度得分，这是由于它们的大小。\n",
        "\n",
        "点积被定义为对应向量分量的乘积之和（这是我们之前做的！）\n",
        "\n",
        "$$\n",
        "\\mathbf{A} \\cdot \\mathbf{B} = \\sum_{i=1}^{n} A_i B_i\n",
        "$$\n",
        "\n",
        "如果你看一下余弦相似度公式，如果假设向量已经被归一化（即它们的大小为1），那么余弦相似度等同于点积。这意味着余弦相似度是一个归一化的点积。\n",
        "\n",
        "让我们创建一个新的向量，[4, 6, 8]。这个向量与[2, 3, 4]的方向相同，但是长度是它的两倍。让我们计算[1, 2, 3]与[2, 3, 4]和[4, 6, 8]的点积。"
      ]
    },
    {
      "cell_type": "code",
      "execution_count": null,
      "metadata": {
        "id": "VcrViGDIGRSz",
        "outputId": "6983ef21-e069-42cd-f931-8146b1d38d18",
        "vscode": {
          "languageId": "python"
        }
      },
      "outputs": [
        {
          "name": "stdout",
          "output_type": "stream",
          "text": [
            "Cosine Similarity between a and b: tensor([[0.9926]])\n",
            "Cosine Similarity between a and c: tensor([[0.9926]])\n",
            "Dot product between a and b: 20.0\n",
            "Dot product between a and c: 40.0\n"
          ]
        }
      ],
      "source": [
        "c = torch.FloatTensor([4, 6, 8])\n",
        "\n",
        "print(f\"Cosine Similarity between a and b: {util.cos_sim(a, b)}\")\n",
        "print(f\"Cosine Similarity between a and c: {util.cos_sim(a, c)}\")\n",
        "\n",
        "print(f\"Dot product between a and b: {torch.dot(a, b)}\")\n",
        "print(f\"Dot product between a and c: {torch.dot(a, c)}\")"
      ]
    },
    {
      "cell_type": "markdown",
      "metadata": {
        "id": "b3hV0oaKGRSz"
      },
      "source": [
        "这是有道理的！因为b和c具有相同的角度，所以a和b以及a和c之间的余弦相似度是相同的。然而，由于c比b更长，所以a和c之间的点积更高。"
      ]
    },
    {
      "cell_type": "code",
      "execution_count": null,
      "metadata": {
        "id": "skP0FZNGGRSz",
        "outputId": "ba4e3dd9-5fcd-4cd7-fe7d-bb5121eabad2",
        "vscode": {
          "languageId": "python"
        }
      },
      "outputs": [
        {
          "data": {
            "image/png": "[encoded data removed]",
            "text/plain": [
              "<Figure size 640x480 with 1 Axes>"
            ]
          },
          "metadata": {},
          "output_type": "display_data"
        }
      ],
      "source": [
        "V = np.array([a.tolist(), b.tolist(), c.tolist()])\n",
        "origin = np.array([[0, 0, 0], [0, 0, 0]])  # origin point\n",
        "\n",
        "plt.quiver(*origin, V[:, 0], V[:, 1], color=[\"r\", \"b\", \"g\"], scale=20)\n",
        "plt.show()"
      ]
    },
    {
      "cell_type": "markdown",
      "metadata": {
        "id": "U8dcTWR-GRSz"
      },
      "source": [
        "### 欧几里得距离\n",
        "\n",
        "欧几里得距离是通过测量两个向量之间的直线距离来计算的距离。与点积一样，欧几里得距离考虑了向量的大小。我不会深入解释这两个度量标准，但主要思想是，点积度量了一个向量延伸到另一个向量方向的程度，而欧几里得距离则度量了两个向量之间的直线距离。它被定义为各个向量分量之间差的平方和的平方根。其定义为：\n",
        "\n",
        "$$\n",
        "\\text{Euclidean Distance}(\\mathbf{A}, \\mathbf{B}) = \\sqrt{\\sum_{i=1}^{n} (A_i - B_i)^2}\n",
        "$$\n",
        "\n",
        "In practice, you can use the Squared Euclidean (L2-Squared)\n",
        "\n",
        "$$\n",
        "\\text{Squared Euclidean}(\\mathbf{A}, \\mathbf{B}) = \\sum_{i=1}^{n} (A_i - B_i)^2\n",
        "$$"
      ]
    },
    {
      "cell_type": "markdown",
      "metadata": {
        "id": "vb_dPIOeGRSz"
      },
      "source": [
        "### 选择一个评分函数\n",
        "\n",
        "我们刚刚学习了点积、余弦相似度和欧几里得距离。何时使用哪一个？\n",
        "\n",
        "这取决于模型！某些模型将以产生归一化嵌入的方式进行训练。在这种情况下，点积、余弦相似度和欧几里得距离都会产生相同的结果。\n",
        "\n",
        "其他模型不是以产生归一化嵌入的方式进行训练 - 它们被调整为进行点积。在这种情况下，点积将是在向量空间中找到最接近项的最佳函数。即使如此，如果大小不重要，我们仍然可以像在前面的部分中那样进行归一化。您可以根据您的用例使用不同的距离函数。具有归一化嵌入的模型将更喜欢较短的句子，而具有非归一化嵌入的模型将更喜欢较长的句子。这是因为较长句子的嵌入的大小会更大。\n",
        "\n",
        "| Distance function | Values | When to use |\n",
        "| ----------------- | ------ | ----------- |\n",
        "| Cosine similarity | [-1, 1] | When the magnitude is not important |\n",
        "| Dot product       | [-inf, inf] | When the magnitude is important |\n",
        "| Euclidean distance | [0, inf] | When the magnitude is important |\n",
        "\n",
        "简要总结一下：\n",
        "\n",
        "* **余弦相似度** 关注向量之间的夹角。它是一个归一化的点积。\n",
        "* **点积** 关注向量的大小和角度。\n",
        "* **欧几里得距离** 用于测量向量之间的空间距离。\n",
        "\n",
        "还有其他距离函数，例如曼哈顿距离，但这些是常见的并且对我们的用例很有用！"
      ]
    },
    {
      "cell_type": "markdown",
      "metadata": {
        "id": "4E_ETVQcGRS0"
      },
      "source": [
        "## 扩展\n",
        "\n",
        "到目前为止，我们只处理了几个句子。在实践中，您可能需要处理数百万个嵌入，而我们并不总是能够计算到所有嵌入的距离（这称为蛮力搜索）。\n",
        "\n",
        "一种方法是使用近似最近邻算法。这些算法将数据划分为相似嵌入的桶。这使我们能够快速找到最接近的嵌入，而不必计算到所有嵌入的距离。这并不是精确的，因为一些相似度很高的向量可能仍然被错过。您可以使用不同的库来实现这一点，比如Spotify的[Annoy](https://github.com/spotify/annoy)和Facebook的[Faiss](https://github.com/facebookresearch/faiss)。像Pinecone和Weaviate这样的向量数据库也使用最近邻技术，以便在毫秒内搜索数百万个对象。\n",
        "\n",
        "现在，让我们来看一个有趣的应用，其中扩展性问题变得更加明显。"
      ]
    },
    {
      "cell_type": "markdown",
      "metadata": {
        "id": "IGtDwaW3GRS0"
      },
      "source": [
        "### 应用二：释义挖掘\n",
        "\n",
        "到目前为止，通过语义搜索，我们一直在寻找与查询句子最相似的句子。在**释义挖掘**中，目标是在一个非常大的语料库中找到意思相似的文本。让我们拿我们的Quora数据集来看看是否能找到相似的问题。"
      ]
    },
    {
      "cell_type": "code",
      "execution_count": null,
      "metadata": {
        "id": "opPESt9IGRS0",
        "outputId": "80065b2d-f517-4ea4-8b42-1017c83da287",
        "vscode": {
          "languageId": "python"
        }
      },
      "outputs": [
        {
          "data": {
            "text/plain": [
              "['',\n",
              " 'What are the Nostradamus Predictions for the 2017?',\n",
              " 'Is it expensive to take music lessons?',\n",
              " 'what are the differences between first world and third world countries? Are there any second world countries?',\n",
              " 'How much is a 1963 2 dollar bill with a red seal worth?',\n",
              " 'What is the capital of Finland?',\n",
              " 'Which is the best project management app for accounting companies?',\n",
              " \"What is Dire Straits' best album ever?\",\n",
              " 'How does Weapon Silencers work?',\n",
              " 'How should we study in medical school?']"
            ]
          },
          "execution_count": null,
          "metadata": {},
          "output_type": "execute_result"
        }
      ],
      "source": [
        "questions_to_embed = 10\n",
        "short_corpus_questions = corpus_questions[:questions_to_embed]\n",
        "short_corpus_questions"
      ]
    },
    {
      "cell_type": "code",
      "execution_count": null,
      "metadata": {
        "id": "ekGYNnMzGRS0",
        "outputId": "5de36cf3-f884-4d09-fd32-14f5be3123be",
        "vscode": {
          "languageId": "python"
        }
      },
      "outputs": [
        {
          "name": "stdout",
          "output_type": "stream",
          "text": [
            "Results (after 0.000 seconds):\n"
          ]
        },
        {
          "data": {
            "text/plain": [
              "tensor([[1.0000, 0.7863, 0.6348, 0.7524, 0.7128, 0.7620, 0.6928, 0.7316, 0.6973,\n",
              "         0.6602],\n",
              "        [0.7863, 1.0000, 0.7001, 0.8369, 0.8229, 0.8093, 0.7694, 0.8111, 0.7849,\n",
              "         0.7157],\n",
              "        [0.6348, 0.7001, 1.0000, 0.6682, 0.7346, 0.7228, 0.7257, 0.7434, 0.7529,\n",
              "         0.7616],\n",
              "        [0.7524, 0.8369, 0.6682, 1.0000, 0.7484, 0.8042, 0.6713, 0.7560, 0.7336,\n",
              "         0.6901],\n",
              "        [0.7128, 0.8229, 0.7346, 0.7484, 1.0000, 0.7222, 0.7419, 0.7603, 0.8080,\n",
              "         0.7145],\n",
              "        [0.7620, 0.8093, 0.7228, 0.8042, 0.7222, 1.0000, 0.7327, 0.7542, 0.7349,\n",
              "         0.6992],\n",
              "        [0.6928, 0.7694, 0.7257, 0.6713, 0.7419, 0.7327, 1.0000, 0.7820, 0.7270,\n",
              "         0.7513],\n",
              "        [0.7316, 0.8111, 0.7434, 0.7560, 0.7603, 0.7542, 0.7820, 1.0000, 0.7432,\n",
              "         0.7151],\n",
              "        [0.6973, 0.7849, 0.7529, 0.7336, 0.8080, 0.7349, 0.7270, 0.7432, 1.0000,\n",
              "         0.7243],\n",
              "        [0.6602, 0.7157, 0.7616, 0.6901, 0.7145, 0.6992, 0.7513, 0.7151, 0.7243,\n",
              "         1.0000]], device='cuda:0')"
            ]
          },
          "execution_count": null,
          "metadata": {},
          "output_type": "execute_result"
        }
      ],
      "source": [
        "model = SentenceTransformer(\"quora-distilbert-multilingual\")\n",
        "embeddings = model.encode(short_corpus_questions, convert_to_tensor=True)\n",
        "\n",
        "# Compute distance btween all embeddings\n",
        "start_time = time.time()\n",
        "distances = util.pytorch_cos_sim(embeddings, embeddings)\n",
        "end_time = time.time()\n",
        "\n",
        "print(\"Results (after {:.3f} seconds):\".format(end_time - start_time))\n",
        "distances"
      ]
    },
    {
      "cell_type": "markdown",
      "metadata": {
        "id": "ku4yhVBeGRS0"
      },
      "source": [
        "太棒了！我们刚刚计算了10个嵌入与10个嵌入之间的距离。速度非常快。现在让我们尝试使用1000个查询。"
      ]
    },
    {
      "cell_type": "code",
      "execution_count": null,
      "metadata": {
        "colab": {
          "referenced_widgets": [
            "90f929bf62b04c5180c9573320320d4e"
          ]
        },
        "id": "YgbVY6SsGRS0",
        "outputId": "ace8b807-9f70-4a73-b29a-51536374c1b7",
        "vscode": {
          "languageId": "python"
        }
      },
      "outputs": [
        {
          "data": {
            "application/vnd.jupyter.widget-view+json": {
              "model_id": "90f929bf62b04c5180c9573320320d4e",
              "version_major": 2,
              "version_minor": 0
            },
            "text/plain": [
              "Batches:   0%|          | 0/625 [00:00<?, ?it/s]"
            ]
          },
          "metadata": {},
          "output_type": "display_data"
        },
        {
          "name": "stdout",
          "output_type": "stream",
          "text": [
            "Results (after 0.000 seconds):\n"
          ]
        }
      ],
      "source": [
        "def compute_embeddings_slow(questions, n=10):\n",
        "    embeddings = model.encode(\n",
        "        questions[:n], show_progress_bar=True, convert_to_tensor=True\n",
        "    )\n",
        "\n",
        "    # Compute distance btween all embeddings\n",
        "    start_time = time.time()\n",
        "    distances = util.pytorch_cos_sim(embeddings, embeddings)\n",
        "    end_time = time.time()\n",
        "\n",
        "    return distances, end_time - start_time\n",
        "\n",
        "\n",
        "_, s = compute_embeddings_slow(corpus_questions, 20000)\n",
        "print(\"Results (after {:.3f} seconds):\".format(s))"
      ]
    },
    {
      "cell_type": "markdown",
      "metadata": {
        "id": "Ij1Q4tOsGRS0"
      },
      "source": [
        "好的，这仍然很快！让我们看看一些其他的值。"
      ]
    },
    {
      "cell_type": "code",
      "execution_count": null,
      "metadata": {
        "colab": {
          "referenced_widgets": [
            "bc00ef68a4dd45ec822cb736f62f0c6d",
            "7ca7ff71b91f48aa9c5776803dabc406",
            "e6de0384bb7e4c5eb497cc1d847f364d",
            "1bcf39b41a744a2da167afeab7359ae7"
          ]
        },
        "id": "lsIoyEBNGRS0",
        "outputId": "2ac7488c-0f35-4495-e1b7-fc8e851e5398",
        "vscode": {
          "languageId": "python"
        }
      },
      "outputs": [
        {
          "data": {
            "application/vnd.jupyter.widget-view+json": {
              "model_id": "bc00ef68a4dd45ec822cb736f62f0c6d",
              "version_major": 2,
              "version_minor": 0
            },
            "text/plain": [
              "Batches:   0%|          | 0/1 [00:00<?, ?it/s]"
            ]
          },
          "metadata": {},
          "output_type": "display_data"
        },
        {
          "data": {
            "application/vnd.jupyter.widget-view+json": {
              "model_id": "7ca7ff71b91f48aa9c5776803dabc406",
              "version_major": 2,
              "version_minor": 0
            },
            "text/plain": [
              "Batches:   0%|          | 0/313 [00:00<?, ?it/s]"
            ]
          },
          "metadata": {},
          "output_type": "display_data"
        },
        {
          "data": {
            "application/vnd.jupyter.widget-view+json": {
              "model_id": "e6de0384bb7e4c5eb497cc1d847f364d",
              "version_major": 2,
              "version_minor": 0
            },
            "text/plain": [
              "Batches:   0%|          | 0/626 [00:00<?, ?it/s]"
            ]
          },
          "metadata": {},
          "output_type": "display_data"
        },
        {
          "data": {
            "application/vnd.jupyter.widget-view+json": {
              "model_id": "1bcf39b41a744a2da167afeab7359ae7",
              "version_major": 2,
              "version_minor": 0
            },
            "text/plain": [
              "Batches:   0%|          | 0/938 [00:00<?, ?it/s]"
            ]
          },
          "metadata": {},
          "output_type": "display_data"
        },
        {
          "data": {
            "text/plain": [
              "Text(0, 0.5, 'Time (seconds)')"
            ]
          },
          "execution_count": null,
          "metadata": {},
          "output_type": "execute_result"
        },
        {
          "data": {
            "image/png": "[encoded data removed]",
            "text/plain": [
              "<Figure size 640x480 with 1 Axes>"
            ]
          },
          "metadata": {},
          "output_type": "display_data"
        }
      ],
      "source": [
        "import matplotlib.pyplot as plt\n",
        "\n",
        "n_queries = [1, 10001, 20001, 30001]  # If I keep going my computer explodes\n",
        "times = []\n",
        "\n",
        "for n in n_queries:\n",
        "    _, s = compute_embeddings_slow(corpus_questions, n)\n",
        "    times.append(s)\n",
        "    torch.cuda.empty_cache()  # Clear GPU cache\n",
        "\n",
        "plt.plot(n_queries, times)\n",
        "plt.xlabel(\"Number of queries\")\n",
        "plt.ylabel(\"Time (seconds)\")"
      ]
    },
    {
      "cell_type": "markdown",
      "metadata": {
        "id": "7WzxjtEwGRS0"
      },
      "source": [
        "上述算法具有二次运行时间，因此如果我们不断增加查询数量，它将无法很好地扩展。对于更大的集合，我们可以使用[释义挖掘技术](https://www.sbert.net/examples/applications/paraphrase-mining/README.html)，这种方法更复杂、更高效。"
      ]
    },
    {
      "cell_type": "code",
      "execution_count": null,
      "metadata": {
        "colab": {
          "referenced_widgets": [
            "207c7cf4d03543b9ab3f5edc276cb7fd"
          ]
        },
        "id": "Q8FuOoOVGRS0",
        "outputId": "610f1d69-c8b5-4828-99e3-7d3612235ac0",
        "vscode": {
          "languageId": "python"
        }
      },
      "outputs": [
        {
          "data": {
            "application/vnd.jupyter.widget-view+json": {
              "model_id": "207c7cf4d03543b9ab3f5edc276cb7fd",
              "version_major": 2,
              "version_minor": 0
            },
            "text/plain": [
              "Batches:   0%|          | 0/3125 [00:00<?, ?it/s]"
            ]
          },
          "metadata": {},
          "output_type": "display_data"
        }
      ],
      "source": [
        "start_time = time.time()\n",
        "paraphrases = util.paraphrase_mining(\n",
        "    model, corpus_questions[:100000], show_progress_bar=True\n",
        ")\n",
        "end_time = time.time()"
      ]
    },
    {
      "cell_type": "code",
      "execution_count": null,
      "metadata": {
        "id": "IdQYrzwRGRS0",
        "outputId": "bc49ea46-1f57-424d-9456-7ba1095e418d",
        "vscode": {
          "languageId": "python"
        }
      },
      "outputs": [
        {
          "data": {
            "text/plain": [
              "250976"
            ]
          },
          "execution_count": null,
          "metadata": {},
          "output_type": "execute_result"
        }
      ],
      "source": [
        "len(paraphrases)"
      ]
    },
    {
      "cell_type": "code",
      "execution_count": null,
      "metadata": {
        "id": "gxk2wxYEGRS1",
        "outputId": "e6d94da7-737a-4cdf-89b1-051ba7eca5db",
        "vscode": {
          "languageId": "python"
        }
      },
      "outputs": [
        {
          "data": {
            "text/plain": [
              "[[0.999999463558197, 18862, 24292],\n",
              " [0.9999779462814331, 10915, 61354],\n",
              " [0.9999630451202393, 60527, 86890]]"
            ]
          },
          "execution_count": null,
          "metadata": {},
          "output_type": "execute_result"
        }
      ],
      "source": [
        "paraphrases[:3]"
      ]
    },
    {
      "cell_type": "markdown",
      "metadata": {
        "id": "2Rx1cK8kGRS1"
      },
      "source": [
        "第一个值是分数，第二个是语料库问题的索引，第三个是另一个语料库问题的索引。分数表示两个问题有多相似。\n",
        "\n",
        "非常好！我们只需要\n",
        "1. 计算了10万个问题的嵌入。\n",
        "2. 获取了最相似的句子，并\n",
        "3. 对它们进行了排序。\n",
        "\n",
        "所有这些在20秒内完成！让我们看看具有最高相似度的5个匹配项。"
      ]
    },
    {
      "cell_type": "code",
      "execution_count": null,
      "metadata": {
        "id": "A5NnP-YvGRS1",
        "outputId": "9e5d05f8-3772-43d0-fb2a-1b8a5787f47e",
        "vscode": {
          "languageId": "python"
        }
      },
      "outputs": [
        {
          "name": "stdout",
          "output_type": "stream",
          "text": [
            "1.000\tHow do I  increase traffic on my site? and How do I increase traffic on my site?\n",
            "1.000\twho is the best rapper of all time? and Who is the best rapper of all time?\n",
            "1.000\tHow can I become an automobile engineer? and How can I become a automobile engineer?\n",
            "1.000\tI made a plasma vortex at my home, but why doesn't it produce a zapping sound like at time when we see sparks and does the air nearby it ionizes? and I made a plasma vortex at my home, but why doesn't it produce a zapping sound like at time when we see sparks and does the air nearby it, ionizes?\n",
            "1.000\tWhy was Cyrus Mistry removed as the chairman of Tata Sons? and Why was Cyrus Mistry removed as the Chairman of Tata Sons?\n"
          ]
        }
      ],
      "source": [
        "for score, i, j in paraphrases[:5]:\n",
        "    print(\"{:.3f}\\t{} and {}\".format(score, corpus_questions[i], corpus_questions[j]))"
      ]
    },
    {
      "cell_type": "markdown",
      "metadata": {
        "id": "JEP21atuGRS1"
      },
      "source": [
        "这种方法是如何工作的？语料库被划分为较小的块，这使我们能够管理内存和计算资源的使用。块划分有两种方式：\n",
        "\n",
        "* **查询块大小：** 决定了考虑作为潜在释义的句子的数量。这是与查询句子进行比较的句子数量，并由 `query_chunk_size` 控制（默认为5000）。\n",
        "* **语料库块大小：** 决定了同时进行比较的语料库块的数量。这由 `corpus_chunk_size` 控制（默认为100000）。\n",
        "\n",
        "例如，默认参数下，该算法每次处理5000个句子，将这些句子与语料库中剩余部分的10万个句子的块进行比较。该算法专注于获取**前几个匹配项** - 使用 `top_k`，对于查询块中的每个句子，算法只选择语料库块中的前 k 个匹配项。这意味着该算法不会找到所有的匹配项，但它会找到前几个匹配项。这是一个很好的折衷，因为我们通常不需要所有的匹配项，只需要前几个匹配项。\n",
        "\n",
        "这两个参数使得过程更有效，因为处理数据的较小子集在计算上更容易。它还有助于节省内存，因为我们不必将整个语料库加载到内存中来计算相似度。找到这些参数的合适值是速度和准确度之间的折衷。值越大，结果越准确，但算法越慢。\n",
        "\n",
        ":::{.温馨提示}\n",
        "\n",
        "您可以使用 `max_pairs` 来限制返回的配对数。\n",
        "\n",
        ":::\n",
        "\n",
        "这是算法的伪代码：\n",
        "\n",
        "```python\n",
        "# Initialize an empty list to store the results\n",
        "results = []\n",
        "\n",
        "for query_chunk in query_chunks:\n",
        "    for corpus_chunk in corpus_chunks:\n",
        "        # Compute the similarity between the query chunk and the corpus chunk\n",
        "        similarity = compute_similarity(query_chunk, corpus_chunk)\n",
        "        # Get the top k matches in the other chunk\n",
        "        top_k_matches = similarity.top_k(top_k)\n",
        "        # Add the top k matches to the results\n",
        "        results.add(top_k_matches)\n",
        "```"
      ]
    },
    {
      "cell_type": "markdown",
      "metadata": {
        "id": "K8ztHnh-GRS1"
      },
      "source": [
        "## 选择和评估模型"
      ]
    },
    {
      "cell_type": "markdown",
      "metadata": {
        "id": "ono-wJMrGRS1"
      },
      "source": [
        "你应该对句子嵌入有很好的理解，以及我们可以用它们做些什么。今天，我们使用了两个不同的模型，`all-MiniLM-L6-v2` 和 `quora-distilbert-multilingual`。我们如何知道该使用哪个模型？我们如何知道一个模型是否好用？\n",
        "\n",
        "第一步是知道在哪里发现句子嵌入模型。如果您正在使用开源模型，Hugging Face Hub 允许您[按条件筛选](https://huggingface.co/models?library=sentence-transformers)。社区已经分享了超过 4000 个模型！尽管查看 Hugging Face 上的热门模型是一个很好的指标（例如，我可以看到微软的 Multilingual 5 Large 模型，一个不错的模型），但我们需要更多信息来选择一个模型。\n",
        "\n",
        "[MTEB](https://huggingface.co/spaces/mteb/leaderboard) 让我们不用担心。该排行榜包含多个用于各种任务的评估数据集。让我们快速看一下在选择模型时我们感兴趣的一些标准。\n",
        "\n",
        "* **序列长度** 如前所述，根据预期的用户输入，您可能需要对更长的序列进行编码。例如，如果您要对长文档进行编码，您可能需要使用具有更大序列长度的模型。另一种选择是将文档拆分为多个句子，并分别对每个句子进行编码。\n",
        "* **语言** 排行榜主要包含英语或多语言模型，但您也可以找到其他语言的模型，比如中文、波兰语、丹麦语、瑞典语、德语等。\n",
        "* **嵌入维度** 如前所述，嵌入维度越大，嵌入可以捕获的信息就越多。但是，计算和存储更大的嵌入会更昂贵。\n",
        "* **跨任务的平均指标** 排行榜包含多个任务，例如聚类、重新排序和检索。您可以查看所有任务的平均表现，以了解模型的好坏程度。\n",
        "* **特定任务的指标** 您还可以查看模型在特定任务中的表现。例如，如果您对聚类感兴趣，可以查看模型在聚类任务中的表现。\n",
        "\n",
        "了解模型的目的也是至关重要的。一些模型将是通用模型，而另一些模型，如[Specter 2](https://huggingface.co/allenai/specter2)，则专注于特定任务，比如科学论文。我不会深入讨论排行榜中的所有任务，但你可以查看[MTEB论文](https://arxiv.org/abs/2210.07316)以获取更多信息。让我简要总结一下MTEB。\n",
        "\n",
        "[MTEB论文中的任务图片](https://github.com/osanseviero/hackerllama/blob/main/nbs/blog/posts/sentence_embeddings/mteb.png?raw=1)\n",
        "\n",
        "MTEB 提供了跨八项任务的 56 个数据集的基准测试，并包含 112 种语言。它很容易扩展，以将您的数据集和模型添加到排行榜中。总体而言，它是一个简单易用的工具，可帮助您找到适合您用例的速度与准确度之间的平衡点。\n",
        "\n",
        "今天（2024年1月7日）排名第一的模型是一个大型模型，E5-Mistral-7B-instruct，大小为14.22GB，在56个数据集上的平均分数为66.63。下一个最好的开源模型之一是BGE-Large-en-v1.5，大小只有1.34GB，平均得分为64.23。而BGE的基础模型，甚至更小（0.44GB），质量为63.55！相比之下，text-embedding-ada-002，尽管提供了更大的1536维度嵌入，但质量只有60.99。在MTEB基准测试中排名第23！Cohere提供了质量更好的嵌入，质量为64.47，维度为1024。\n",
        "\n",
        "我建议查看这个2022年的 Twitter 推文，在这个推文中，OpenAI 的嵌入被与其他嵌入进行了比较。结果非常有趣！成本要高出许多个数量级，而质量比较小的模型要低得多。\n",
        "\n",
        "**在这一切中，不要过于专注于一个单一的数字。您应该始终关注您任务的具体指标，以及特定的资源和速度要求**\n",
        "\n",
        "浏览 MTEB 中涵盖的不同任务是很有意思的，可以使你更好地理解句子嵌入的潜在应用\n",
        "\n",
        "* **双语文本挖掘** 这个任务涉及在两组句子中找到最相似的句子，每组句子都是不同语言的。这对机器翻译和跨语言搜索非常重要。\n",
        "* **分类** 在这个应用中，使用句子嵌入训练 logistic 回归分类器进行文本分类任务。\n",
        "* **聚类** 这里，使用句子嵌入训练 k-means 模型，将相似的句子聚合在一起，有助于无监督学习任务。\n",
        "* **句对分类** 这个任务涉及预测一对句子是否相似，比如确定它们是否是重复的或是释义的，有助于释义检测。\n",
        "* **重新排序** 在这种情况下，基于它们与查询句子的相似性重新排列一系列参考文本，改进搜索和推荐系统。\n",
        "* **检索** 这个应用涉及将查询和相关文档嵌入以找到与给定查询最相似的文档，对搜索相关任务至关重要。\n",
        "* **语义相似度** 这个任务侧重于确定一对句子之间的相似性，输出连续的相似度分数，对于释义检测等任务非常有用。\n",
        "* **摘要生成** 这涉及通过计算摘要与参考（人工编写的）摘要之间的相似性来对一组摘要进行评分，这在摘要生成评估中非常重要。"
      ]
    },
    {
      "cell_type": "markdown",
      "metadata": {
        "id": "CZaeIjikGRS1"
      },
      "source": [
        "## 展示应用程序：在浏览器中运行嵌入模型\n",
        "我们不会进行这个实操，但我想向你展示一种关于嵌入的很酷的应用。Lee Butterman 构建了一个[很酷的应用](https://leebutterman.com/wikipedia-search-by-vibes/)，用户可以使用嵌入在数百万条维基百科文章中进行搜索。**这里特别棒的是，这是离线的：嵌入存储在浏览器中，模型也直接在您的浏览器中运行 - 没有任何数据被发送到服务器！** 🤯\n",
        "\n",
        "数据准备\n",
        "\n",
        "* 我们首先预先计算了一个嵌入数据库。作者使用了一个小型但有效的模型，即 all-minilm-l6-v2。\n",
        "* 6百万个页面 * 384维度 * 每个浮点数占用4字节 = 9.2 GB。这对用户来说下载量相当大。\n",
        "* 作者使用了一种称为[矢量量化](https://en.wikipedia.org/wiki/Vector_quantization)的技术来减小数据库的大小。\n",
        "* 然后将数据导出到一种名为 Arrow 的格式中，这个格式非常紧凑！\n",
        "\n",
        ":::{.温馨提示}\n",
        "\n",
        "不要过于担心这里的具体细节。我们的主要目标是理解这个项目的高层次概念，而不是去实践它；所以如果这是你第一次听到“量化”这个词，也请不要害怕！\n",
        "\n",
        ":::\n",
        "\n",
        "推理阶段\n",
        "\n",
        "* Lee使用了transformers.js，这是一个允许在浏览器中使用JavaScript运行transformers模型的库。这需要具有量化模型。以下是一个示例：\n",
        "\n",
        "```js\n",
        "const extractor = await pipeline('feature-extraction', 'Xenova/all-MiniLM-L6-v2');\n",
        "const output = await extractor('This is a simple test.', { pooling: 'mean', normalize: true });\n",
        "// Tensor {\n",
        "//   type: 'float32',\n",
        "//   data: Float32Array [0.09094982594251633, -0.014774246141314507, ...],\n",
        "//   dims: [1, 384]\n",
        "// }\n",
        "```\n",
        "\n",
        "* `transformers.js` 将所有-MiniLM-L6-v2模型下载到浏览器，并用于在浏览器中计算向量值\n",
        "* 然后使用 [pq.js](https://github.com/lsb/pq.js) 计算距离\n",
        "\n",
        "您可以在 [lee的博客文章](https://www.leebutterman.com/2023/06/01/offline-realtime-embedding-search.html) 中详细了解这个项目。这是嵌入（embeddings）如何在浏览器中使用的一个很好的例子！"
      ]
    },
    {
      "cell_type": "markdown",
      "metadata": {
        "id": "6hxsSclNGRS1"
      },
      "source": [
        "## 生态系统\n",
        "\n",
        "嵌入（embeddings）周围的生态系统非常庞大。\"\n",
        "\n",
        "### 基于向量的构建方法：\n",
        "\n",
        "* 有一些很酷的工具，比如`top2vec`和`bertopic`，专门用于构建主题嵌入。\n",
        "* `keybert`是一个允许使用BERT嵌入从文档中提取关键词和关键短语的库。\n",
        "* `setfit`是一个库，允许对Sentence Transformers进行有效的少样本微调，以便将其用于文本分类。\n",
        "\n",
        "### 向量数据库\n",
        "\n",
        "2023年是嵌入式数据库元年。[LangChain 集成部分](https://integrations.langchain.com/vectorstores)显示有65个向量存储库。从Weaviate、Pinecone和Chroma到Redis、ElasticSearch和Postgres等各种工具都有涵盖。嵌入式数据库专注于加速对向量相似性搜索，通常使用近似搜索算法。嵌入式数据库初创公司的新浪潮导致了大量资金的投入。与此同时，一些传统的数据库公司也将向量索引集成到了它们的产品中，例如Cassandra和MongoDB。\n",
        "\n",
        "### 研究\n",
        "\n",
        "嵌入领域的研究也非常活跃。如果你关注MTEB基准测试，它每几周就会发生变化。在这方面的一些参与者包括微软（E5模型）、Cohere、智源研究院（BGE）、阿里巴巴（GTE）、香港大学自然语言处理组（Instructor）以及Jina等众多机构。"
      ]
    },
    {
      "cell_type": "markdown",
      "metadata": {
        "id": "TTjr_gmaGRS1"
      },
      "source": [
        "## 结论\n",
        "\n",
        "这是一段奇妙的旅程！我们从零开始，深入了解了句子嵌入。我们学到了它们是什么，如何计算它们，如何比较它们，以及如何扩展它们。我们还看到了一些嵌入的酷炫应用，如语义搜索和释义挖掘。希望这篇博客文章让你对句子嵌入有了深刻的理解，知道如何使用它们。这是系列文章的第一部分。还有什么可以学习的呢？\n",
        "\n",
        "* 向量数据库的作用\n",
        "* 如何在更复杂的排名系统中使用嵌入\n",
        "* 主题建模\n",
        "* 多模态\n",
        "* 如何训练自己的向量模型\n",
        "* 关于RAGs的一切\n",
        "\n",
        "有时候需要给每个人留出一些时间！就目前而言，我建议你休息一下，检查一下你的知识。不要犹豫，修改代码并进行调试！如果你喜欢这篇博客文章，请[点亮 GitHub Star](https://github.com/osanseviero/hackerllama) 或分享它！"
      ]
    },
    {
      "cell_type": "markdown",
      "metadata": {
        "id": "3HFkHaxnGRS1"
      },
      "source": [
        "## 知识检查\n",
        "\n",
        "1. 为什么 Transformer 模型比 GloVe 或 Word2Vec 在计算向量值方面更为有效？\n",
        "2. BERT 中 [CLS] 标记的作用是什么，它如何帮助计算句子向量值？\n",
        "3. pooler_output 和 ['CLS'] 标记向量之间有什么区别？\n",
        "4. ['CLS'] 池化、最大池化和平均池化之间有什么区别\n",
        "5. Transformer 模型的序列长度限制是多少，我们如何解决这个问题？\n",
        "6. 何时需要对嵌入进行归一化？\n",
        "7. 哪两个向量值的余弦相似度为 -1？为 0 呢？\n",
        "8. 解释 paraphrase_mining 函数的不同参数。\n",
        "9. 在什么情况下你会选择最适合你使用案例的模型？"
      ]
    },
    {
      "cell_type": "markdown",
      "metadata": {
        "id": "ta0iMq8KGRS1"
      },
      "source": [
        "## 资源\n",
        "\n",
        "这里有许多可用的资源：\n",
        "\n",
        "* [Sentence Transformers](https://www.sbert.net/)\n",
        "* [Hugging Face Hub](https://huggingface.co/models?library=sentence-transformers)\n",
        "* [MTEB Leaderboard](https://huggingface.co/blog/mteb)\n"
      ]
    },
    {
      "cell_type": "markdown",
      "metadata": {
        "id": "bifMmQzyGRS2"
      },
      "source": []
    }
  ],
  "metadata": {
    "colab": {
      "provenance": []
    },
    "kernelspec": {
      "display_name": "python3",
      "language": "python",
      "name": "python3"
    }
  },
  "nbformat": 4,
  "nbformat_minor": 0
}
